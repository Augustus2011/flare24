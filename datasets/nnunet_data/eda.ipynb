{
 "cells": [
  {
   "cell_type": "code",
   "execution_count": 12,
   "metadata": {},
   "outputs": [],
   "source": [
    "import numpy as np\n",
    "import shutil\n",
    "\n",
    "import os\n",
    "\n",
    "\n",
    "import SimpleITK as sitk\n",
    "import glob"
   ]
  },
  {
   "cell_type": "code",
   "execution_count": 14,
   "metadata": {},
   "outputs": [
    {
     "name": "stdout",
     "output_type": "stream",
     "text": [
      "Image: /Users/kunkerdthaisong/intern_cariva/flare24/datasets/nnunet_data/nnUNet_raw/Dataset500_FLARE/imagesTr/FLARE_000_0000.nii.gz, Shape: (107, 512, 512)\n",
      "Label: /Users/kunkerdthaisong/intern_cariva/flare24/datasets/nnunet_data/nnUNet_raw/Dataset500_FLARE/labelsTr/FLARE_000.nii.gz, Shape: (103, 512, 512)\n",
      "--------------------------------------------------\n",
      "Mismatch found: /Users/kunkerdthaisong/intern_cariva/flare24/datasets/nnunet_data/nnUNet_raw/Dataset500_FLARE/imagesTr/FLARE_000_0000.nii.gz and /Users/kunkerdthaisong/intern_cariva/flare24/datasets/nnunet_data/nnUNet_raw/Dataset500_FLARE/labelsTr/FLARE_000.nii.gz\n",
      "xxxxxxxxxxxxxxxxxxxxxxxxxxxxxxxxxxxxxxxxxxxxxxxxxx\n",
      "Image: /Users/kunkerdthaisong/intern_cariva/flare24/datasets/nnunet_data/nnUNet_raw/Dataset500_FLARE/imagesTr/FLARE_001_0000.nii.gz, Shape: (85, 512, 512)\n",
      "Label: /Users/kunkerdthaisong/intern_cariva/flare24/datasets/nnunet_data/nnUNet_raw/Dataset500_FLARE/labelsTr/FLARE_001.nii.gz, Shape: (85, 512, 512)\n",
      "--------------------------------------------------\n",
      "Image: /Users/kunkerdthaisong/intern_cariva/flare24/datasets/nnunet_data/nnUNet_raw/Dataset500_FLARE/imagesTr/FLARE_002_0000.nii.gz, Shape: (110, 512, 512)\n",
      "Label: /Users/kunkerdthaisong/intern_cariva/flare24/datasets/nnunet_data/nnUNet_raw/Dataset500_FLARE/labelsTr/FLARE_002.nii.gz, Shape: (92, 512, 512)\n",
      "--------------------------------------------------\n",
      "Mismatch found: /Users/kunkerdthaisong/intern_cariva/flare24/datasets/nnunet_data/nnUNet_raw/Dataset500_FLARE/imagesTr/FLARE_002_0000.nii.gz and /Users/kunkerdthaisong/intern_cariva/flare24/datasets/nnunet_data/nnUNet_raw/Dataset500_FLARE/labelsTr/FLARE_002.nii.gz\n",
      "xxxxxxxxxxxxxxxxxxxxxxxxxxxxxxxxxxxxxxxxxxxxxxxxxx\n",
      "Image: /Users/kunkerdthaisong/intern_cariva/flare24/datasets/nnunet_data/nnUNet_raw/Dataset500_FLARE/imagesTr/FLARE_003_0000.nii.gz, Shape: (71, 512, 512)\n",
      "Label: /Users/kunkerdthaisong/intern_cariva/flare24/datasets/nnunet_data/nnUNet_raw/Dataset500_FLARE/labelsTr/FLARE_003.nii.gz, Shape: (99, 512, 512)\n",
      "--------------------------------------------------\n",
      "Mismatch found: /Users/kunkerdthaisong/intern_cariva/flare24/datasets/nnunet_data/nnUNet_raw/Dataset500_FLARE/imagesTr/FLARE_003_0000.nii.gz and /Users/kunkerdthaisong/intern_cariva/flare24/datasets/nnunet_data/nnUNet_raw/Dataset500_FLARE/labelsTr/FLARE_003.nii.gz\n",
      "xxxxxxxxxxxxxxxxxxxxxxxxxxxxxxxxxxxxxxxxxxxxxxxxxx\n",
      "Image: /Users/kunkerdthaisong/intern_cariva/flare24/datasets/nnunet_data/nnUNet_raw/Dataset500_FLARE/imagesTr/FLARE_004_0000.nii.gz, Shape: (99, 512, 512)\n",
      "Label: /Users/kunkerdthaisong/intern_cariva/flare24/datasets/nnunet_data/nnUNet_raw/Dataset500_FLARE/labelsTr/FLARE_004.nii.gz, Shape: (87, 512, 512)\n",
      "--------------------------------------------------\n",
      "Mismatch found: /Users/kunkerdthaisong/intern_cariva/flare24/datasets/nnunet_data/nnUNet_raw/Dataset500_FLARE/imagesTr/FLARE_004_0000.nii.gz and /Users/kunkerdthaisong/intern_cariva/flare24/datasets/nnunet_data/nnUNet_raw/Dataset500_FLARE/labelsTr/FLARE_004.nii.gz\n",
      "xxxxxxxxxxxxxxxxxxxxxxxxxxxxxxxxxxxxxxxxxxxxxxxxxx\n",
      "Image: /Users/kunkerdthaisong/intern_cariva/flare24/datasets/nnunet_data/nnUNet_raw/Dataset500_FLARE/imagesTr/FLARE_005_0000.nii.gz, Shape: (104, 512, 512)\n",
      "Label: /Users/kunkerdthaisong/intern_cariva/flare24/datasets/nnunet_data/nnUNet_raw/Dataset500_FLARE/labelsTr/FLARE_005.nii.gz, Shape: (98, 512, 512)\n",
      "--------------------------------------------------\n",
      "Mismatch found: /Users/kunkerdthaisong/intern_cariva/flare24/datasets/nnunet_data/nnUNet_raw/Dataset500_FLARE/imagesTr/FLARE_005_0000.nii.gz and /Users/kunkerdthaisong/intern_cariva/flare24/datasets/nnunet_data/nnUNet_raw/Dataset500_FLARE/labelsTr/FLARE_005.nii.gz\n",
      "xxxxxxxxxxxxxxxxxxxxxxxxxxxxxxxxxxxxxxxxxxxxxxxxxx\n",
      "Image: /Users/kunkerdthaisong/intern_cariva/flare24/datasets/nnunet_data/nnUNet_raw/Dataset500_FLARE/imagesTr/FLARE_006_0000.nii.gz, Shape: (84, 512, 512)\n",
      "Label: /Users/kunkerdthaisong/intern_cariva/flare24/datasets/nnunet_data/nnUNet_raw/Dataset500_FLARE/labelsTr/FLARE_006.nii.gz, Shape: (98, 512, 512)\n",
      "--------------------------------------------------\n",
      "Mismatch found: /Users/kunkerdthaisong/intern_cariva/flare24/datasets/nnunet_data/nnUNet_raw/Dataset500_FLARE/imagesTr/FLARE_006_0000.nii.gz and /Users/kunkerdthaisong/intern_cariva/flare24/datasets/nnunet_data/nnUNet_raw/Dataset500_FLARE/labelsTr/FLARE_006.nii.gz\n",
      "xxxxxxxxxxxxxxxxxxxxxxxxxxxxxxxxxxxxxxxxxxxxxxxxxx\n",
      "Image: /Users/kunkerdthaisong/intern_cariva/flare24/datasets/nnunet_data/nnUNet_raw/Dataset500_FLARE/imagesTr/FLARE_007_0000.nii.gz, Shape: (102, 512, 512)\n",
      "Label: /Users/kunkerdthaisong/intern_cariva/flare24/datasets/nnunet_data/nnUNet_raw/Dataset500_FLARE/labelsTr/FLARE_007.nii.gz, Shape: (99, 512, 512)\n",
      "--------------------------------------------------\n",
      "Mismatch found: /Users/kunkerdthaisong/intern_cariva/flare24/datasets/nnunet_data/nnUNet_raw/Dataset500_FLARE/imagesTr/FLARE_007_0000.nii.gz and /Users/kunkerdthaisong/intern_cariva/flare24/datasets/nnunet_data/nnUNet_raw/Dataset500_FLARE/labelsTr/FLARE_007.nii.gz\n",
      "xxxxxxxxxxxxxxxxxxxxxxxxxxxxxxxxxxxxxxxxxxxxxxxxxx\n",
      "Image: /Users/kunkerdthaisong/intern_cariva/flare24/datasets/nnunet_data/nnUNet_raw/Dataset500_FLARE/imagesTr/FLARE_008_0000.nii.gz, Shape: (93, 512, 512)\n",
      "Label: /Users/kunkerdthaisong/intern_cariva/flare24/datasets/nnunet_data/nnUNet_raw/Dataset500_FLARE/labelsTr/FLARE_008.nii.gz, Shape: (71, 512, 512)\n",
      "--------------------------------------------------\n",
      "Mismatch found: /Users/kunkerdthaisong/intern_cariva/flare24/datasets/nnunet_data/nnUNet_raw/Dataset500_FLARE/imagesTr/FLARE_008_0000.nii.gz and /Users/kunkerdthaisong/intern_cariva/flare24/datasets/nnunet_data/nnUNet_raw/Dataset500_FLARE/labelsTr/FLARE_008.nii.gz\n",
      "xxxxxxxxxxxxxxxxxxxxxxxxxxxxxxxxxxxxxxxxxxxxxxxxxx\n",
      "Image: /Users/kunkerdthaisong/intern_cariva/flare24/datasets/nnunet_data/nnUNet_raw/Dataset500_FLARE/imagesTr/FLARE_009_0000.nii.gz, Shape: (89, 512, 512)\n",
      "Label: /Users/kunkerdthaisong/intern_cariva/flare24/datasets/nnunet_data/nnUNet_raw/Dataset500_FLARE/labelsTr/FLARE_009.nii.gz, Shape: (107, 512, 512)\n",
      "--------------------------------------------------\n",
      "Mismatch found: /Users/kunkerdthaisong/intern_cariva/flare24/datasets/nnunet_data/nnUNet_raw/Dataset500_FLARE/imagesTr/FLARE_009_0000.nii.gz and /Users/kunkerdthaisong/intern_cariva/flare24/datasets/nnunet_data/nnUNet_raw/Dataset500_FLARE/labelsTr/FLARE_009.nii.gz\n",
      "xxxxxxxxxxxxxxxxxxxxxxxxxxxxxxxxxxxxxxxxxxxxxxxxxx\n",
      "Image: /Users/kunkerdthaisong/intern_cariva/flare24/datasets/nnunet_data/nnUNet_raw/Dataset500_FLARE/imagesTr/FLARE_010_0000.nii.gz, Shape: (87, 512, 512)\n",
      "Label: /Users/kunkerdthaisong/intern_cariva/flare24/datasets/nnunet_data/nnUNet_raw/Dataset500_FLARE/labelsTr/FLARE_010.nii.gz, Shape: (94, 512, 512)\n",
      "--------------------------------------------------\n",
      "Mismatch found: /Users/kunkerdthaisong/intern_cariva/flare24/datasets/nnunet_data/nnUNet_raw/Dataset500_FLARE/imagesTr/FLARE_010_0000.nii.gz and /Users/kunkerdthaisong/intern_cariva/flare24/datasets/nnunet_data/nnUNet_raw/Dataset500_FLARE/labelsTr/FLARE_010.nii.gz\n",
      "xxxxxxxxxxxxxxxxxxxxxxxxxxxxxxxxxxxxxxxxxxxxxxxxxx\n",
      "Image: /Users/kunkerdthaisong/intern_cariva/flare24/datasets/nnunet_data/nnUNet_raw/Dataset500_FLARE/imagesTr/FLARE_011_0000.nii.gz, Shape: (93, 512, 512)\n",
      "Label: /Users/kunkerdthaisong/intern_cariva/flare24/datasets/nnunet_data/nnUNet_raw/Dataset500_FLARE/labelsTr/FLARE_011.nii.gz, Shape: (104, 512, 512)\n",
      "--------------------------------------------------\n",
      "Mismatch found: /Users/kunkerdthaisong/intern_cariva/flare24/datasets/nnunet_data/nnUNet_raw/Dataset500_FLARE/imagesTr/FLARE_011_0000.nii.gz and /Users/kunkerdthaisong/intern_cariva/flare24/datasets/nnunet_data/nnUNet_raw/Dataset500_FLARE/labelsTr/FLARE_011.nii.gz\n",
      "xxxxxxxxxxxxxxxxxxxxxxxxxxxxxxxxxxxxxxxxxxxxxxxxxx\n",
      "Image: /Users/kunkerdthaisong/intern_cariva/flare24/datasets/nnunet_data/nnUNet_raw/Dataset500_FLARE/imagesTr/FLARE_012_0000.nii.gz, Shape: (113, 512, 512)\n",
      "Label: /Users/kunkerdthaisong/intern_cariva/flare24/datasets/nnunet_data/nnUNet_raw/Dataset500_FLARE/labelsTr/FLARE_012.nii.gz, Shape: (113, 512, 512)\n",
      "--------------------------------------------------\n",
      "Image: /Users/kunkerdthaisong/intern_cariva/flare24/datasets/nnunet_data/nnUNet_raw/Dataset500_FLARE/imagesTr/FLARE_013_0000.nii.gz, Shape: (95, 512, 512)\n",
      "Label: /Users/kunkerdthaisong/intern_cariva/flare24/datasets/nnunet_data/nnUNet_raw/Dataset500_FLARE/labelsTr/FLARE_013.nii.gz, Shape: (103, 512, 512)\n",
      "--------------------------------------------------\n",
      "Mismatch found: /Users/kunkerdthaisong/intern_cariva/flare24/datasets/nnunet_data/nnUNet_raw/Dataset500_FLARE/imagesTr/FLARE_013_0000.nii.gz and /Users/kunkerdthaisong/intern_cariva/flare24/datasets/nnunet_data/nnUNet_raw/Dataset500_FLARE/labelsTr/FLARE_013.nii.gz\n",
      "xxxxxxxxxxxxxxxxxxxxxxxxxxxxxxxxxxxxxxxxxxxxxxxxxx\n",
      "Image: /Users/kunkerdthaisong/intern_cariva/flare24/datasets/nnunet_data/nnUNet_raw/Dataset500_FLARE/imagesTr/FLARE_014_0000.nii.gz, Shape: (92, 512, 512)\n",
      "Label: /Users/kunkerdthaisong/intern_cariva/flare24/datasets/nnunet_data/nnUNet_raw/Dataset500_FLARE/labelsTr/FLARE_014.nii.gz, Shape: (113, 512, 512)\n",
      "--------------------------------------------------\n",
      "Mismatch found: /Users/kunkerdthaisong/intern_cariva/flare24/datasets/nnunet_data/nnUNet_raw/Dataset500_FLARE/imagesTr/FLARE_014_0000.nii.gz and /Users/kunkerdthaisong/intern_cariva/flare24/datasets/nnunet_data/nnUNet_raw/Dataset500_FLARE/labelsTr/FLARE_014.nii.gz\n",
      "xxxxxxxxxxxxxxxxxxxxxxxxxxxxxxxxxxxxxxxxxxxxxxxxxx\n",
      "Image: /Users/kunkerdthaisong/intern_cariva/flare24/datasets/nnunet_data/nnUNet_raw/Dataset500_FLARE/imagesTr/FLARE_015_0000.nii.gz, Shape: (103, 512, 512)\n",
      "Label: /Users/kunkerdthaisong/intern_cariva/flare24/datasets/nnunet_data/nnUNet_raw/Dataset500_FLARE/labelsTr/FLARE_015.nii.gz, Shape: (99, 512, 512)\n",
      "--------------------------------------------------\n",
      "Mismatch found: /Users/kunkerdthaisong/intern_cariva/flare24/datasets/nnunet_data/nnUNet_raw/Dataset500_FLARE/imagesTr/FLARE_015_0000.nii.gz and /Users/kunkerdthaisong/intern_cariva/flare24/datasets/nnunet_data/nnUNet_raw/Dataset500_FLARE/labelsTr/FLARE_015.nii.gz\n",
      "xxxxxxxxxxxxxxxxxxxxxxxxxxxxxxxxxxxxxxxxxxxxxxxxxx\n",
      "Image: /Users/kunkerdthaisong/intern_cariva/flare24/datasets/nnunet_data/nnUNet_raw/Dataset500_FLARE/imagesTr/FLARE_016_0000.nii.gz, Shape: (85, 512, 512)\n",
      "Label: /Users/kunkerdthaisong/intern_cariva/flare24/datasets/nnunet_data/nnUNet_raw/Dataset500_FLARE/labelsTr/FLARE_016.nii.gz, Shape: (89, 512, 512)\n",
      "--------------------------------------------------\n",
      "Mismatch found: /Users/kunkerdthaisong/intern_cariva/flare24/datasets/nnunet_data/nnUNet_raw/Dataset500_FLARE/imagesTr/FLARE_016_0000.nii.gz and /Users/kunkerdthaisong/intern_cariva/flare24/datasets/nnunet_data/nnUNet_raw/Dataset500_FLARE/labelsTr/FLARE_016.nii.gz\n",
      "xxxxxxxxxxxxxxxxxxxxxxxxxxxxxxxxxxxxxxxxxxxxxxxxxx\n",
      "Image: /Users/kunkerdthaisong/intern_cariva/flare24/datasets/nnunet_data/nnUNet_raw/Dataset500_FLARE/imagesTr/FLARE_017_0000.nii.gz, Shape: (108, 512, 512)\n",
      "Label: /Users/kunkerdthaisong/intern_cariva/flare24/datasets/nnunet_data/nnUNet_raw/Dataset500_FLARE/labelsTr/FLARE_017.nii.gz, Shape: (89, 512, 512)\n",
      "--------------------------------------------------\n",
      "Mismatch found: /Users/kunkerdthaisong/intern_cariva/flare24/datasets/nnunet_data/nnUNet_raw/Dataset500_FLARE/imagesTr/FLARE_017_0000.nii.gz and /Users/kunkerdthaisong/intern_cariva/flare24/datasets/nnunet_data/nnUNet_raw/Dataset500_FLARE/labelsTr/FLARE_017.nii.gz\n",
      "xxxxxxxxxxxxxxxxxxxxxxxxxxxxxxxxxxxxxxxxxxxxxxxxxx\n",
      "Image: /Users/kunkerdthaisong/intern_cariva/flare24/datasets/nnunet_data/nnUNet_raw/Dataset500_FLARE/imagesTr/FLARE_018_0000.nii.gz, Shape: (100, 512, 512)\n",
      "Label: /Users/kunkerdthaisong/intern_cariva/flare24/datasets/nnunet_data/nnUNet_raw/Dataset500_FLARE/labelsTr/FLARE_018.nii.gz, Shape: (108, 512, 512)\n",
      "--------------------------------------------------\n",
      "Mismatch found: /Users/kunkerdthaisong/intern_cariva/flare24/datasets/nnunet_data/nnUNet_raw/Dataset500_FLARE/imagesTr/FLARE_018_0000.nii.gz and /Users/kunkerdthaisong/intern_cariva/flare24/datasets/nnunet_data/nnUNet_raw/Dataset500_FLARE/labelsTr/FLARE_018.nii.gz\n",
      "xxxxxxxxxxxxxxxxxxxxxxxxxxxxxxxxxxxxxxxxxxxxxxxxxx\n",
      "Image: /Users/kunkerdthaisong/intern_cariva/flare24/datasets/nnunet_data/nnUNet_raw/Dataset500_FLARE/imagesTr/FLARE_019_0000.nii.gz, Shape: (107, 512, 512)\n",
      "Label: /Users/kunkerdthaisong/intern_cariva/flare24/datasets/nnunet_data/nnUNet_raw/Dataset500_FLARE/labelsTr/FLARE_019.nii.gz, Shape: (87, 512, 512)\n",
      "--------------------------------------------------\n",
      "Mismatch found: /Users/kunkerdthaisong/intern_cariva/flare24/datasets/nnunet_data/nnUNet_raw/Dataset500_FLARE/imagesTr/FLARE_019_0000.nii.gz and /Users/kunkerdthaisong/intern_cariva/flare24/datasets/nnunet_data/nnUNet_raw/Dataset500_FLARE/labelsTr/FLARE_019.nii.gz\n",
      "xxxxxxxxxxxxxxxxxxxxxxxxxxxxxxxxxxxxxxxxxxxxxxxxxx\n",
      "Image: /Users/kunkerdthaisong/intern_cariva/flare24/datasets/nnunet_data/nnUNet_raw/Dataset500_FLARE/imagesTr/FLARE_020_0000.nii.gz, Shape: (99, 512, 512)\n",
      "Label: /Users/kunkerdthaisong/intern_cariva/flare24/datasets/nnunet_data/nnUNet_raw/Dataset500_FLARE/labelsTr/FLARE_020.nii.gz, Shape: (85, 512, 512)\n",
      "--------------------------------------------------\n",
      "Mismatch found: /Users/kunkerdthaisong/intern_cariva/flare24/datasets/nnunet_data/nnUNet_raw/Dataset500_FLARE/imagesTr/FLARE_020_0000.nii.gz and /Users/kunkerdthaisong/intern_cariva/flare24/datasets/nnunet_data/nnUNet_raw/Dataset500_FLARE/labelsTr/FLARE_020.nii.gz\n",
      "xxxxxxxxxxxxxxxxxxxxxxxxxxxxxxxxxxxxxxxxxxxxxxxxxx\n",
      "Image: /Users/kunkerdthaisong/intern_cariva/flare24/datasets/nnunet_data/nnUNet_raw/Dataset500_FLARE/imagesTr/FLARE_021_0000.nii.gz, Shape: (93, 512, 512)\n",
      "Label: /Users/kunkerdthaisong/intern_cariva/flare24/datasets/nnunet_data/nnUNet_raw/Dataset500_FLARE/labelsTr/FLARE_021.nii.gz, Shape: (107, 512, 512)\n",
      "--------------------------------------------------\n",
      "Mismatch found: /Users/kunkerdthaisong/intern_cariva/flare24/datasets/nnunet_data/nnUNet_raw/Dataset500_FLARE/imagesTr/FLARE_021_0000.nii.gz and /Users/kunkerdthaisong/intern_cariva/flare24/datasets/nnunet_data/nnUNet_raw/Dataset500_FLARE/labelsTr/FLARE_021.nii.gz\n",
      "xxxxxxxxxxxxxxxxxxxxxxxxxxxxxxxxxxxxxxxxxxxxxxxxxx\n",
      "Image: /Users/kunkerdthaisong/intern_cariva/flare24/datasets/nnunet_data/nnUNet_raw/Dataset500_FLARE/imagesTr/FLARE_022_0000.nii.gz, Shape: (85, 512, 512)\n",
      "Label: /Users/kunkerdthaisong/intern_cariva/flare24/datasets/nnunet_data/nnUNet_raw/Dataset500_FLARE/labelsTr/FLARE_022.nii.gz, Shape: (95, 512, 512)\n",
      "--------------------------------------------------\n",
      "Mismatch found: /Users/kunkerdthaisong/intern_cariva/flare24/datasets/nnunet_data/nnUNet_raw/Dataset500_FLARE/imagesTr/FLARE_022_0000.nii.gz and /Users/kunkerdthaisong/intern_cariva/flare24/datasets/nnunet_data/nnUNet_raw/Dataset500_FLARE/labelsTr/FLARE_022.nii.gz\n",
      "xxxxxxxxxxxxxxxxxxxxxxxxxxxxxxxxxxxxxxxxxxxxxxxxxx\n",
      "Image: /Users/kunkerdthaisong/intern_cariva/flare24/datasets/nnunet_data/nnUNet_raw/Dataset500_FLARE/imagesTr/FLARE_023_0000.nii.gz, Shape: (98, 512, 512)\n",
      "Label: /Users/kunkerdthaisong/intern_cariva/flare24/datasets/nnunet_data/nnUNet_raw/Dataset500_FLARE/labelsTr/FLARE_023.nii.gz, Shape: (93, 512, 512)\n",
      "--------------------------------------------------\n",
      "Mismatch found: /Users/kunkerdthaisong/intern_cariva/flare24/datasets/nnunet_data/nnUNet_raw/Dataset500_FLARE/imagesTr/FLARE_023_0000.nii.gz and /Users/kunkerdthaisong/intern_cariva/flare24/datasets/nnunet_data/nnUNet_raw/Dataset500_FLARE/labelsTr/FLARE_023.nii.gz\n",
      "xxxxxxxxxxxxxxxxxxxxxxxxxxxxxxxxxxxxxxxxxxxxxxxxxx\n",
      "Image: /Users/kunkerdthaisong/intern_cariva/flare24/datasets/nnunet_data/nnUNet_raw/Dataset500_FLARE/imagesTr/FLARE_024_0000.nii.gz, Shape: (79, 512, 512)\n",
      "Label: /Users/kunkerdthaisong/intern_cariva/flare24/datasets/nnunet_data/nnUNet_raw/Dataset500_FLARE/labelsTr/FLARE_024.nii.gz, Shape: (98, 512, 512)\n",
      "--------------------------------------------------\n",
      "Mismatch found: /Users/kunkerdthaisong/intern_cariva/flare24/datasets/nnunet_data/nnUNet_raw/Dataset500_FLARE/imagesTr/FLARE_024_0000.nii.gz and /Users/kunkerdthaisong/intern_cariva/flare24/datasets/nnunet_data/nnUNet_raw/Dataset500_FLARE/labelsTr/FLARE_024.nii.gz\n",
      "xxxxxxxxxxxxxxxxxxxxxxxxxxxxxxxxxxxxxxxxxxxxxxxxxx\n",
      "Image: /Users/kunkerdthaisong/intern_cariva/flare24/datasets/nnunet_data/nnUNet_raw/Dataset500_FLARE/imagesTr/FLARE_025_0000.nii.gz, Shape: (113, 512, 512)\n",
      "Label: /Users/kunkerdthaisong/intern_cariva/flare24/datasets/nnunet_data/nnUNet_raw/Dataset500_FLARE/labelsTr/FLARE_025.nii.gz, Shape: (84, 512, 512)\n",
      "--------------------------------------------------\n",
      "Mismatch found: /Users/kunkerdthaisong/intern_cariva/flare24/datasets/nnunet_data/nnUNet_raw/Dataset500_FLARE/imagesTr/FLARE_025_0000.nii.gz and /Users/kunkerdthaisong/intern_cariva/flare24/datasets/nnunet_data/nnUNet_raw/Dataset500_FLARE/labelsTr/FLARE_025.nii.gz\n",
      "xxxxxxxxxxxxxxxxxxxxxxxxxxxxxxxxxxxxxxxxxxxxxxxxxx\n",
      "Image: /Users/kunkerdthaisong/intern_cariva/flare24/datasets/nnunet_data/nnUNet_raw/Dataset500_FLARE/imagesTr/FLARE_026_0000.nii.gz, Shape: (98, 512, 512)\n",
      "Label: /Users/kunkerdthaisong/intern_cariva/flare24/datasets/nnunet_data/nnUNet_raw/Dataset500_FLARE/labelsTr/FLARE_026.nii.gz, Shape: (93, 512, 512)\n",
      "--------------------------------------------------\n",
      "Mismatch found: /Users/kunkerdthaisong/intern_cariva/flare24/datasets/nnunet_data/nnUNet_raw/Dataset500_FLARE/imagesTr/FLARE_026_0000.nii.gz and /Users/kunkerdthaisong/intern_cariva/flare24/datasets/nnunet_data/nnUNet_raw/Dataset500_FLARE/labelsTr/FLARE_026.nii.gz\n",
      "xxxxxxxxxxxxxxxxxxxxxxxxxxxxxxxxxxxxxxxxxxxxxxxxxx\n",
      "Image: /Users/kunkerdthaisong/intern_cariva/flare24/datasets/nnunet_data/nnUNet_raw/Dataset500_FLARE/imagesTr/FLARE_027_0000.nii.gz, Shape: (87, 512, 512)\n",
      "Label: /Users/kunkerdthaisong/intern_cariva/flare24/datasets/nnunet_data/nnUNet_raw/Dataset500_FLARE/labelsTr/FLARE_027.nii.gz, Shape: (102, 512, 512)\n",
      "--------------------------------------------------\n",
      "Mismatch found: /Users/kunkerdthaisong/intern_cariva/flare24/datasets/nnunet_data/nnUNet_raw/Dataset500_FLARE/imagesTr/FLARE_027_0000.nii.gz and /Users/kunkerdthaisong/intern_cariva/flare24/datasets/nnunet_data/nnUNet_raw/Dataset500_FLARE/labelsTr/FLARE_027.nii.gz\n",
      "xxxxxxxxxxxxxxxxxxxxxxxxxxxxxxxxxxxxxxxxxxxxxxxxxx\n",
      "Image: /Users/kunkerdthaisong/intern_cariva/flare24/datasets/nnunet_data/nnUNet_raw/Dataset500_FLARE/imagesTr/FLARE_028_0000.nii.gz, Shape: (102, 512, 512)\n",
      "Label: /Users/kunkerdthaisong/intern_cariva/flare24/datasets/nnunet_data/nnUNet_raw/Dataset500_FLARE/labelsTr/FLARE_028.nii.gz, Shape: (101, 512, 512)\n",
      "--------------------------------------------------\n",
      "Mismatch found: /Users/kunkerdthaisong/intern_cariva/flare24/datasets/nnunet_data/nnUNet_raw/Dataset500_FLARE/imagesTr/FLARE_028_0000.nii.gz and /Users/kunkerdthaisong/intern_cariva/flare24/datasets/nnunet_data/nnUNet_raw/Dataset500_FLARE/labelsTr/FLARE_028.nii.gz\n",
      "xxxxxxxxxxxxxxxxxxxxxxxxxxxxxxxxxxxxxxxxxxxxxxxxxx\n",
      "Image: /Users/kunkerdthaisong/intern_cariva/flare24/datasets/nnunet_data/nnUNet_raw/Dataset500_FLARE/imagesTr/FLARE_029_0000.nii.gz, Shape: (84, 512, 512)\n",
      "Label: /Users/kunkerdthaisong/intern_cariva/flare24/datasets/nnunet_data/nnUNet_raw/Dataset500_FLARE/labelsTr/FLARE_029.nii.gz, Shape: (95, 512, 512)\n",
      "--------------------------------------------------\n",
      "Mismatch found: /Users/kunkerdthaisong/intern_cariva/flare24/datasets/nnunet_data/nnUNet_raw/Dataset500_FLARE/imagesTr/FLARE_029_0000.nii.gz and /Users/kunkerdthaisong/intern_cariva/flare24/datasets/nnunet_data/nnUNet_raw/Dataset500_FLARE/labelsTr/FLARE_029.nii.gz\n",
      "xxxxxxxxxxxxxxxxxxxxxxxxxxxxxxxxxxxxxxxxxxxxxxxxxx\n",
      "Image: /Users/kunkerdthaisong/intern_cariva/flare24/datasets/nnunet_data/nnUNet_raw/Dataset500_FLARE/imagesTr/FLARE_030_0000.nii.gz, Shape: (93, 512, 512)\n",
      "Label: /Users/kunkerdthaisong/intern_cariva/flare24/datasets/nnunet_data/nnUNet_raw/Dataset500_FLARE/labelsTr/FLARE_030.nii.gz, Shape: (100, 512, 512)\n",
      "--------------------------------------------------\n",
      "Mismatch found: /Users/kunkerdthaisong/intern_cariva/flare24/datasets/nnunet_data/nnUNet_raw/Dataset500_FLARE/imagesTr/FLARE_030_0000.nii.gz and /Users/kunkerdthaisong/intern_cariva/flare24/datasets/nnunet_data/nnUNet_raw/Dataset500_FLARE/labelsTr/FLARE_030.nii.gz\n",
      "xxxxxxxxxxxxxxxxxxxxxxxxxxxxxxxxxxxxxxxxxxxxxxxxxx\n",
      "Image: /Users/kunkerdthaisong/intern_cariva/flare24/datasets/nnunet_data/nnUNet_raw/Dataset500_FLARE/imagesTr/FLARE_031_0000.nii.gz, Shape: (103, 512, 512)\n",
      "Label: /Users/kunkerdthaisong/intern_cariva/flare24/datasets/nnunet_data/nnUNet_raw/Dataset500_FLARE/labelsTr/FLARE_031.nii.gz, Shape: (102, 512, 512)\n",
      "--------------------------------------------------\n",
      "Mismatch found: /Users/kunkerdthaisong/intern_cariva/flare24/datasets/nnunet_data/nnUNet_raw/Dataset500_FLARE/imagesTr/FLARE_031_0000.nii.gz and /Users/kunkerdthaisong/intern_cariva/flare24/datasets/nnunet_data/nnUNet_raw/Dataset500_FLARE/labelsTr/FLARE_031.nii.gz\n",
      "xxxxxxxxxxxxxxxxxxxxxxxxxxxxxxxxxxxxxxxxxxxxxxxxxx\n",
      "Image: /Users/kunkerdthaisong/intern_cariva/flare24/datasets/nnunet_data/nnUNet_raw/Dataset500_FLARE/imagesTr/FLARE_032_0000.nii.gz, Shape: (98, 512, 512)\n",
      "Label: /Users/kunkerdthaisong/intern_cariva/flare24/datasets/nnunet_data/nnUNet_raw/Dataset500_FLARE/labelsTr/FLARE_032.nii.gz, Shape: (84, 512, 512)\n",
      "--------------------------------------------------\n",
      "Mismatch found: /Users/kunkerdthaisong/intern_cariva/flare24/datasets/nnunet_data/nnUNet_raw/Dataset500_FLARE/imagesTr/FLARE_032_0000.nii.gz and /Users/kunkerdthaisong/intern_cariva/flare24/datasets/nnunet_data/nnUNet_raw/Dataset500_FLARE/labelsTr/FLARE_032.nii.gz\n",
      "xxxxxxxxxxxxxxxxxxxxxxxxxxxxxxxxxxxxxxxxxxxxxxxxxx\n",
      "Image: /Users/kunkerdthaisong/intern_cariva/flare24/datasets/nnunet_data/nnUNet_raw/Dataset500_FLARE/imagesTr/FLARE_033_0000.nii.gz, Shape: (101, 512, 512)\n",
      "Label: /Users/kunkerdthaisong/intern_cariva/flare24/datasets/nnunet_data/nnUNet_raw/Dataset500_FLARE/labelsTr/FLARE_033.nii.gz, Shape: (101, 512, 512)\n",
      "--------------------------------------------------\n",
      "Image: /Users/kunkerdthaisong/intern_cariva/flare24/datasets/nnunet_data/nnUNet_raw/Dataset500_FLARE/imagesTr/FLARE_034_0000.nii.gz, Shape: (101, 512, 512)\n",
      "Label: /Users/kunkerdthaisong/intern_cariva/flare24/datasets/nnunet_data/nnUNet_raw/Dataset500_FLARE/labelsTr/FLARE_034.nii.gz, Shape: (85, 512, 512)\n",
      "--------------------------------------------------\n",
      "Mismatch found: /Users/kunkerdthaisong/intern_cariva/flare24/datasets/nnunet_data/nnUNet_raw/Dataset500_FLARE/imagesTr/FLARE_034_0000.nii.gz and /Users/kunkerdthaisong/intern_cariva/flare24/datasets/nnunet_data/nnUNet_raw/Dataset500_FLARE/labelsTr/FLARE_034.nii.gz\n",
      "xxxxxxxxxxxxxxxxxxxxxxxxxxxxxxxxxxxxxxxxxxxxxxxxxx\n",
      "Image: /Users/kunkerdthaisong/intern_cariva/flare24/datasets/nnunet_data/nnUNet_raw/Dataset500_FLARE/imagesTr/FLARE_035_0000.nii.gz, Shape: (95, 512, 512)\n",
      "Label: /Users/kunkerdthaisong/intern_cariva/flare24/datasets/nnunet_data/nnUNet_raw/Dataset500_FLARE/labelsTr/FLARE_035.nii.gz, Shape: (93, 512, 512)\n",
      "--------------------------------------------------\n",
      "Mismatch found: /Users/kunkerdthaisong/intern_cariva/flare24/datasets/nnunet_data/nnUNet_raw/Dataset500_FLARE/imagesTr/FLARE_035_0000.nii.gz and /Users/kunkerdthaisong/intern_cariva/flare24/datasets/nnunet_data/nnUNet_raw/Dataset500_FLARE/labelsTr/FLARE_035.nii.gz\n",
      "xxxxxxxxxxxxxxxxxxxxxxxxxxxxxxxxxxxxxxxxxxxxxxxxxx\n",
      "Image: /Users/kunkerdthaisong/intern_cariva/flare24/datasets/nnunet_data/nnUNet_raw/Dataset500_FLARE/imagesTr/FLARE_036_0000.nii.gz, Shape: (99, 512, 512)\n",
      "Label: /Users/kunkerdthaisong/intern_cariva/flare24/datasets/nnunet_data/nnUNet_raw/Dataset500_FLARE/labelsTr/FLARE_036.nii.gz, Shape: (79, 512, 512)\n",
      "--------------------------------------------------\n",
      "Mismatch found: /Users/kunkerdthaisong/intern_cariva/flare24/datasets/nnunet_data/nnUNet_raw/Dataset500_FLARE/imagesTr/FLARE_036_0000.nii.gz and /Users/kunkerdthaisong/intern_cariva/flare24/datasets/nnunet_data/nnUNet_raw/Dataset500_FLARE/labelsTr/FLARE_036.nii.gz\n",
      "xxxxxxxxxxxxxxxxxxxxxxxxxxxxxxxxxxxxxxxxxxxxxxxxxx\n",
      "Image: /Users/kunkerdthaisong/intern_cariva/flare24/datasets/nnunet_data/nnUNet_raw/Dataset500_FLARE/imagesTr/FLARE_037_0000.nii.gz, Shape: (91, 512, 512)\n",
      "Label: /Users/kunkerdthaisong/intern_cariva/flare24/datasets/nnunet_data/nnUNet_raw/Dataset500_FLARE/labelsTr/FLARE_037.nii.gz, Shape: (93, 512, 512)\n",
      "--------------------------------------------------\n",
      "Mismatch found: /Users/kunkerdthaisong/intern_cariva/flare24/datasets/nnunet_data/nnUNet_raw/Dataset500_FLARE/imagesTr/FLARE_037_0000.nii.gz and /Users/kunkerdthaisong/intern_cariva/flare24/datasets/nnunet_data/nnUNet_raw/Dataset500_FLARE/labelsTr/FLARE_037.nii.gz\n",
      "xxxxxxxxxxxxxxxxxxxxxxxxxxxxxxxxxxxxxxxxxxxxxxxxxx\n",
      "Image: /Users/kunkerdthaisong/intern_cariva/flare24/datasets/nnunet_data/nnUNet_raw/Dataset500_FLARE/imagesTr/FLARE_038_0000.nii.gz, Shape: (94, 512, 512)\n",
      "Label: /Users/kunkerdthaisong/intern_cariva/flare24/datasets/nnunet_data/nnUNet_raw/Dataset500_FLARE/labelsTr/FLARE_038.nii.gz, Shape: (110, 512, 512)\n",
      "--------------------------------------------------\n",
      "Mismatch found: /Users/kunkerdthaisong/intern_cariva/flare24/datasets/nnunet_data/nnUNet_raw/Dataset500_FLARE/imagesTr/FLARE_038_0000.nii.gz and /Users/kunkerdthaisong/intern_cariva/flare24/datasets/nnunet_data/nnUNet_raw/Dataset500_FLARE/labelsTr/FLARE_038.nii.gz\n",
      "xxxxxxxxxxxxxxxxxxxxxxxxxxxxxxxxxxxxxxxxxxxxxxxxxx\n",
      "Image: /Users/kunkerdthaisong/intern_cariva/flare24/datasets/nnunet_data/nnUNet_raw/Dataset500_FLARE/imagesTr/FLARE_039_0000.nii.gz, Shape: (89, 512, 512)\n",
      "Label: /Users/kunkerdthaisong/intern_cariva/flare24/datasets/nnunet_data/nnUNet_raw/Dataset500_FLARE/labelsTr/FLARE_039.nii.gz, Shape: (91, 512, 512)\n",
      "--------------------------------------------------\n",
      "Mismatch found: /Users/kunkerdthaisong/intern_cariva/flare24/datasets/nnunet_data/nnUNet_raw/Dataset500_FLARE/imagesTr/FLARE_039_0000.nii.gz and /Users/kunkerdthaisong/intern_cariva/flare24/datasets/nnunet_data/nnUNet_raw/Dataset500_FLARE/labelsTr/FLARE_039.nii.gz\n",
      "xxxxxxxxxxxxxxxxxxxxxxxxxxxxxxxxxxxxxxxxxxxxxxxxxx\n"
     ]
    }
   ],
   "source": [
    "image_list=sorted(glob.glob(\"/Users/kunkerdthaisong/intern_cariva/flare24/datasets/nnunet_data/nnUNet_raw/Dataset500_FLARE/imagesTr/*.nii.gz\"))\n",
    "label_list=sorted(glob.glob(\"/Users/kunkerdthaisong/intern_cariva/flare24/datasets/nnunet_data/nnUNet_raw/Dataset500_FLARE/labelsTr/*.nii.gz\"))\n",
    "for image_file, label_file in zip(image_list, label_list):\n",
    "    image = sitk.ReadImage(image_file)\n",
    "    label = sitk.ReadImage(label_file)\n",
    "\n",
    "    image_array = sitk.GetArrayFromImage(image)\n",
    "    label_array = sitk.GetArrayFromImage(label)\n",
    "\n",
    "    print(f'Image: {image_file}, Shape: {image_array.shape}')\n",
    "    print(f'Label: {label_file}, Shape: {label_array.shape}')\n",
    "    print('-'*50)\n",
    "\n",
    "    if image_array.shape != label_array.shape:\n",
    "        print(f'Mismatch found: {image_file} and {label_file}')\n",
    "        print(\"x\"*50)\n"
   ]
  },
  {
   "cell_type": "code",
   "execution_count": null,
   "metadata": {},
   "outputs": [],
   "source": []
  },
  {
   "cell_type": "code",
   "execution_count": 43,
   "metadata": {},
   "outputs": [
    {
     "name": "stdout",
     "output_type": "stream",
     "text": [
      "/Users/kunkerdthaisong/intern_cariva/flare24/datasets/nnunet_data/nnUNet_raw/Dataset050_FLARE/labelsTr/FLARE_014.nii.gz\n"
     ]
    }
   ],
   "source": [
    "print(label_list[0])"
   ]
  },
  {
   "cell_type": "code",
   "execution_count": 3,
   "metadata": {},
   "outputs": [],
   "source": [
    "a=\"/Users/kunkerdthaisong/intern_cariva/flare24/datasets/nnunet_data/nnUNet_raw/Dataset100_SPINE/labelsTr/SPINE_000.nii.gz\""
   ]
  },
  {
   "cell_type": "code",
   "execution_count": 4,
   "metadata": {},
   "outputs": [],
   "source": [
    "mask_l=glob.glob(\"/Users/kunkerdthaisong/intern_cariva/flare24/datasets/nnunet_data/segmentation/volumes/*\")\n",
    "img_l=glob.glob(\"/Users/kunkerdthaisong/intern_cariva/flare24/datasets/nnunet_data/segmentation/segmentations/*\")"
   ]
  },
  {
   "cell_type": "code",
   "execution_count": 7,
   "metadata": {},
   "outputs": [
    {
     "data": {
      "text/plain": [
       "['/Users/kunkerdthaisong/intern_cariva/flare24/datasets/nnunet_data/segmentation/segmentations/FLARE22_Tr_0033_0000.nii.gz',\n",
       " '/Users/kunkerdthaisong/intern_cariva/flare24/datasets/nnunet_data/segmentation/segmentations/FLARE22_Tr_0043_0000.nii.gz',\n",
       " '/Users/kunkerdthaisong/intern_cariva/flare24/datasets/nnunet_data/segmentation/segmentations/FLARE22_Tr_0001_0000.nii.gz',\n",
       " '/Users/kunkerdthaisong/intern_cariva/flare24/datasets/nnunet_data/segmentation/segmentations/FLARE22_Tr_0014_0000.nii.gz',\n",
       " '/Users/kunkerdthaisong/intern_cariva/flare24/datasets/nnunet_data/segmentation/segmentations/FLARE22_Tr_0008_0000.nii.gz',\n",
       " '/Users/kunkerdthaisong/intern_cariva/flare24/datasets/nnunet_data/segmentation/segmentations/FLARE22_Tr_0026_0000.nii.gz',\n",
       " '/Users/kunkerdthaisong/intern_cariva/flare24/datasets/nnunet_data/segmentation/segmentations/FLARE22_Tr_0011_0000.nii.gz',\n",
       " '/Users/kunkerdthaisong/intern_cariva/flare24/datasets/nnunet_data/segmentation/segmentations/FLARE22_Tr_0023_0000.nii.gz',\n",
       " '/Users/kunkerdthaisong/intern_cariva/flare24/datasets/nnunet_data/segmentation/segmentations/FLARE22_Tr_0018_0000.nii.gz',\n",
       " '/Users/kunkerdthaisong/intern_cariva/flare24/datasets/nnunet_data/segmentation/segmentations/FLARE22_Tr_0046_0000.nii.gz',\n",
       " '/Users/kunkerdthaisong/intern_cariva/flare24/datasets/nnunet_data/segmentation/segmentations/FLARE22_Tr_0036_0000.nii.gz',\n",
       " '/Users/kunkerdthaisong/intern_cariva/flare24/datasets/nnunet_data/segmentation/segmentations/FLARE22_Tr_0004_0000.nii.gz',\n",
       " '/Users/kunkerdthaisong/intern_cariva/flare24/datasets/nnunet_data/segmentation/segmentations/FLARE22_Tr_0007_0000.nii.gz',\n",
       " '/Users/kunkerdthaisong/intern_cariva/flare24/datasets/nnunet_data/segmentation/segmentations/FLARE22_Tr_0029_0000.nii.gz',\n",
       " '/Users/kunkerdthaisong/intern_cariva/flare24/datasets/nnunet_data/segmentation/segmentations/FLARE22_Tr_0045_0000.nii.gz',\n",
       " '/Users/kunkerdthaisong/intern_cariva/flare24/datasets/nnunet_data/segmentation/segmentations/FLARE22_Tr_0035_0000.nii.gz',\n",
       " '/Users/kunkerdthaisong/intern_cariva/flare24/datasets/nnunet_data/segmentation/segmentations/FLARE22_Tr_0050_0000.nii.gz',\n",
       " '/Users/kunkerdthaisong/intern_cariva/flare24/datasets/nnunet_data/segmentation/segmentations/FLARE22_Tr_0020_0000.nii.gz',\n",
       " '/Users/kunkerdthaisong/intern_cariva/flare24/datasets/nnunet_data/segmentation/segmentations/FLARE22_Tr_0012_0000.nii.gz',\n",
       " '/Users/kunkerdthaisong/intern_cariva/flare24/datasets/nnunet_data/segmentation/segmentations/FLARE22_Tr_0025_0000.nii.gz',\n",
       " '/Users/kunkerdthaisong/intern_cariva/flare24/datasets/nnunet_data/segmentation/segmentations/FLARE22_Tr_0017_0000.nii.gz',\n",
       " '/Users/kunkerdthaisong/intern_cariva/flare24/datasets/nnunet_data/segmentation/segmentations/FLARE22_Tr_0049_0000.nii.gz',\n",
       " '/Users/kunkerdthaisong/intern_cariva/flare24/datasets/nnunet_data/segmentation/segmentations/FLARE22_Tr_0039_0000.nii.gz',\n",
       " '/Users/kunkerdthaisong/intern_cariva/flare24/datasets/nnunet_data/segmentation/segmentations/FLARE22_Tr_0002_0000.nii.gz',\n",
       " '/Users/kunkerdthaisong/intern_cariva/flare24/datasets/nnunet_data/segmentation/segmentations/FLARE22_Tr_0030_0000.nii.gz',\n",
       " '/Users/kunkerdthaisong/intern_cariva/flare24/datasets/nnunet_data/segmentation/segmentations/FLARE22_Tr_0040_0000.nii.gz',\n",
       " '/Users/kunkerdthaisong/intern_cariva/flare24/datasets/nnunet_data/segmentation/segmentations/FLARE22_Tr_0005_0000.nii.gz',\n",
       " '/Users/kunkerdthaisong/intern_cariva/flare24/datasets/nnunet_data/segmentation/segmentations/FLARE22_Tr_0019_0000.nii.gz',\n",
       " '/Users/kunkerdthaisong/intern_cariva/flare24/datasets/nnunet_data/segmentation/segmentations/FLARE22_Tr_0037_0000.nii.gz',\n",
       " '/Users/kunkerdthaisong/intern_cariva/flare24/datasets/nnunet_data/segmentation/segmentations/FLARE22_Tr_0047_0000.nii.gz',\n",
       " '/Users/kunkerdthaisong/intern_cariva/flare24/datasets/nnunet_data/segmentation/segmentations/FLARE22_Tr_0022_0000.nii.gz',\n",
       " '/Users/kunkerdthaisong/intern_cariva/flare24/datasets/nnunet_data/segmentation/segmentations/FLARE22_Tr_0010_0000.nii.gz',\n",
       " '/Users/kunkerdthaisong/intern_cariva/flare24/datasets/nnunet_data/segmentation/segmentations/FLARE22_Tr_0009_0000.nii.gz',\n",
       " '/Users/kunkerdthaisong/intern_cariva/flare24/datasets/nnunet_data/segmentation/segmentations/FLARE22_Tr_0027_0000.nii.gz',\n",
       " '/Users/kunkerdthaisong/intern_cariva/flare24/datasets/nnunet_data/segmentation/segmentations/FLARE22_Tr_0015_0000.nii.gz',\n",
       " '/Users/kunkerdthaisong/intern_cariva/flare24/datasets/nnunet_data/segmentation/segmentations/FLARE22_Tr_0042_0000.nii.gz',\n",
       " '/Users/kunkerdthaisong/intern_cariva/flare24/datasets/nnunet_data/segmentation/segmentations/FLARE22_Tr_0032_0000.nii.gz',\n",
       " '/Users/kunkerdthaisong/intern_cariva/flare24/datasets/nnunet_data/segmentation/segmentations/FLARE22_Tr_0041_0000.nii.gz',\n",
       " '/Users/kunkerdthaisong/intern_cariva/flare24/datasets/nnunet_data/segmentation/segmentations/FLARE22_Tr_0031_0000.nii.gz',\n",
       " '/Users/kunkerdthaisong/intern_cariva/flare24/datasets/nnunet_data/segmentation/segmentations/FLARE22_Tr_0003_0000.nii.gz',\n",
       " '/Users/kunkerdthaisong/intern_cariva/flare24/datasets/nnunet_data/segmentation/segmentations/FLARE22_Tr_0016_0000.nii.gz',\n",
       " '/Users/kunkerdthaisong/intern_cariva/flare24/datasets/nnunet_data/segmentation/segmentations/FLARE22_Tr_0038_0000.nii.gz',\n",
       " '/Users/kunkerdthaisong/intern_cariva/flare24/datasets/nnunet_data/segmentation/segmentations/FLARE22_Tr_0048_0000.nii.gz',\n",
       " '/Users/kunkerdthaisong/intern_cariva/flare24/datasets/nnunet_data/segmentation/segmentations/FLARE22_Tr_0024_0000.nii.gz',\n",
       " '/Users/kunkerdthaisong/intern_cariva/flare24/datasets/nnunet_data/segmentation/segmentations/FLARE22_Tr_0013_0000.nii.gz',\n",
       " '/Users/kunkerdthaisong/intern_cariva/flare24/datasets/nnunet_data/segmentation/segmentations/FLARE22_Tr_0021_0000.nii.gz',\n",
       " '/Users/kunkerdthaisong/intern_cariva/flare24/datasets/nnunet_data/segmentation/segmentations/FLARE22_Tr_0034_0000.nii.gz',\n",
       " '/Users/kunkerdthaisong/intern_cariva/flare24/datasets/nnunet_data/segmentation/segmentations/FLARE22_Tr_0044_0000.nii.gz',\n",
       " '/Users/kunkerdthaisong/intern_cariva/flare24/datasets/nnunet_data/segmentation/segmentations/FLARE22_Tr_0006_0000.nii.gz',\n",
       " '/Users/kunkerdthaisong/intern_cariva/flare24/datasets/nnunet_data/segmentation/segmentations/FLARE22_Tr_0028_0000.nii.gz']"
      ]
     },
     "execution_count": 7,
     "metadata": {},
     "output_type": "execute_result"
    }
   ],
   "source": [
    "img_l"
   ]
  },
  {
   "cell_type": "code",
   "execution_count": 8,
   "metadata": {},
   "outputs": [],
   "source": [
    "for i in range(len(mask_l)):\n",
    "    \n",
    "    shutil.move(mask_l[i],os.path.dirname(img_l[0]))\n",
    "    shutil.move(img_l[i],os.path.dirname(mask_l[0]))"
   ]
  },
  {
   "cell_type": "code",
   "execution_count": 2,
   "metadata": {},
   "outputs": [
    {
     "name": "stdout",
     "output_type": "stream",
     "text": [
      "[ 0  1  2  3  4  5  6  7  8  9 10 11 12 13]\n"
     ]
    }
   ],
   "source": [
    "mask=sik.ReadImage(\"/Users/kunkerdthaisong/intern_cariva/flare24/datasets/nnunet_data/segmentation/volumes/FLARE22_Tr_0001.nii.gz\")\n",
    "mask_arr=sik.GetArrayFromImage(mask)\n",
    "\n",
    "print(np.unique(mask_arr))"
   ]
  },
  {
   "cell_type": "code",
   "execution_count": 6,
   "metadata": {},
   "outputs": [
    {
     "name": "stdout",
     "output_type": "stream",
     "text": [
      "[ 0  1  2  3  4  5  6  7  8  9 10 11 12 13]\n",
      "[ 0  1  2  3  4  5  6  7  8  9 10 11 12 13]\n",
      "[ 0  1  2  3  4  5  6  7  8  9 10 11 12 13]\n",
      "[ 0  1  2  3  4  5  6  7  8  9 10 11 12 13]\n",
      "[ 0  1  2  3  4  5  6  7  8  9 10 11 12 13]\n",
      "[ 0  1  2  3  4  5  6  7  8  9 10 11 12 13]\n",
      "[ 0  1  2  3  4  5  6  7  8  9 10 11 12 13]\n",
      "[ 0  1  2  3  4  5  6  7  8  9 10 11 12 13]\n",
      "[ 0  1  2  3  4  5  6  7  8  9 10 11 12 13]\n",
      "[ 0  1  2  3  4  5  6  7  8  9 10 11 12 13]\n",
      "[ 0  1  2  3  4  5  6  7  8  9 10 11 12 13]\n",
      "[ 0  1  2  3  4  5  6  7  8  9 10 11 12 13]\n",
      "[ 0  1  2  3  4  5  6  7  8  9 10 11 12 13]\n",
      "[ 0  1  2  3  4  5  6  7  8  9 10 11 12 13]\n",
      "[ 0  1  2  3  4  5  6  7  8  9 10 11 12 13]\n",
      "[ 0  1  2  3  4  5  6  7  8  9 10 11 12 13]\n",
      "[ 0  1  2  3  4  5  6  7  8  9 10 11 12 13]\n",
      "[ 0  1  2  3  4  5  6  7  8  9 10 11 12 13]\n",
      "[ 0  1  2  3  4  5  6  7  8  9 10 11 12 13]\n",
      "[ 0  1  2  3  4  5  6  7  8  9 10 11 12 13]\n",
      "[ 0  1  2  3  4  5  6  7  8  9 10 11 12 13]\n",
      "[ 0  1  2  3  4  5  6  7  8  9 10 11 12 13]\n",
      "[ 0  1  2  3  4  5  6  7  8  9 10 11 12 13]\n",
      "[ 0  1  2  3  4  5  6  7  8  9 10 11 12 13]\n",
      "[ 0  1  2  3  4  5  6  7  8  9 10 11 12 13]\n",
      "[ 0  1  2  3  4  5  6  7  8  9 10 11 12 13]\n",
      "[ 0  1  2  3  4  5  6  7  8  9 10 11 12 13]\n",
      "[ 0  1  2  3  4  5  6  7  8  9 10 11 12 13]\n",
      "[ 0  1  2  3  4  5  6  7  8  9 10 11 12 13]\n",
      "[ 0  1  2  3  4  5  6  7  8  9 10 11 12 13]\n",
      "[ 0  1  2  3  4  5  6  7  8  9 10 11 12 13]\n",
      "[ 0  1  2  3  4  5  6  7  8  9 10 11 12 13]\n",
      "[ 0  1  2  3  4  5  6  7  8  9 10 11 12 13]\n",
      "[ 0  1  2  3  4  5  6  7  8  9 10 11 12 13]\n",
      "[ 0  1  2  3  4  5  6  7  8  9 10 11 12 13]\n",
      "[ 0  1  2  3  4  5  6  7  8  9 10 11 12 13]\n",
      "[ 0  1  2  3  4  5  6  7  8  9 10 11 12 13]\n",
      "[ 0  1  2  3  4  5  6  7  8  9 10 11 12 13]\n",
      "[ 0  1  2  3  4  5  6  7  8  9 10 11 12 13]\n",
      "[ 0  1  2  3  4  5  6  7  8  9 10 11 12 13]\n"
     ]
    }
   ],
   "source": [
    "path=\"/Users/kunkerdthaisong/intern_cariva/flare24/datasets/nnunet_data/nnUNet_raw/\"\n",
    "\n",
    "for i in range(len(image_list)):\n",
    "    mask=sik.ReadImage(image_list[i])\n",
    "    #image=sik.ReadImage(label_list[i])\n",
    "    #image_arr=sik.GetArrayFromImage(image)\n",
    "    mask_arr=sik.GetArrayFromImage(mask)\n",
    "\n",
    "    #print(np.unique(image_arr))\n",
    "    \n",
    "    print(np.unique(mask_arr))"
   ]
  },
  {
   "cell_type": "code",
   "execution_count": 36,
   "metadata": {},
   "outputs": [],
   "source": []
  },
  {
   "cell_type": "code",
   "execution_count": 37,
   "metadata": {},
   "outputs": [
    {
     "data": {
      "text/plain": [
       "array([ 0,  1,  2,  3,  4,  5,  6,  7,  8,  9, 10, 11, 12, 13],\n",
       "      dtype=uint16)"
      ]
     },
     "execution_count": 37,
     "metadata": {},
     "output_type": "execute_result"
    }
   ],
   "source": [
    "np.unique(mask_arr)"
   ]
  },
  {
   "cell_type": "code",
   "execution_count": 27,
   "metadata": {},
   "outputs": [],
   "source": []
  },
  {
   "cell_type": "code",
   "execution_count": 17,
   "metadata": {},
   "outputs": [
    {
     "data": {
      "text/plain": [
       "['',\n",
       " 'Users',\n",
       " 'kunkerdthaisong',\n",
       " 'intern_cariva',\n",
       " 'flare24',\n",
       " 'datasets',\n",
       " 'nnunet_data',\n",
       " 'nnUNet_raw',\n",
       " 'Dataset050_FLARE',\n",
       " 'labelsTr',\n",
       " 'FLARE_014.nii.gz']"
      ]
     },
     "execution_count": 17,
     "metadata": {},
     "output_type": "execute_result"
    }
   ],
   "source": [
    "len(image_list),len(label_list)\n",
    "image_list[0].split(\"/\")"
   ]
  },
  {
   "cell_type": "code",
   "execution_count": 29,
   "metadata": {},
   "outputs": [],
   "source": [
    "\n",
    "\n",
    "\n",
    "for i in range(len(image_list)):\n",
    "    shutil.move(image_list[i],os.path.dirname(label_list[0]))\n",
    "    shutil.move(label_list[i],os.path.dirname(image_list[0]))"
   ]
  },
  {
   "cell_type": "code",
   "execution_count": 28,
   "metadata": {},
   "outputs": [
    {
     "data": {
      "text/plain": [
       "'/Users/kunkerdthaisong/intern_cariva/flare24/datasets/nnunet_data/nnUNet_raw/Dataset050_FLARE/labelsTr'"
      ]
     },
     "execution_count": 28,
     "metadata": {},
     "output_type": "execute_result"
    }
   ],
   "source": [
    "os.path.dirname(label_list[0])"
   ]
  },
  {
   "cell_type": "code",
   "execution_count": null,
   "metadata": {},
   "outputs": [],
   "source": []
  }
 ],
 "metadata": {
  "kernelspec": {
   "display_name": "Python 3",
   "language": "python",
   "name": "python3"
  },
  "language_info": {
   "codemirror_mode": {
    "name": "ipython",
    "version": 3
   },
   "file_extension": ".py",
   "mimetype": "text/x-python",
   "name": "python",
   "nbconvert_exporter": "python",
   "pygments_lexer": "ipython3",
   "version": "3.11.1"
  }
 },
 "nbformat": 4,
 "nbformat_minor": 2
}
