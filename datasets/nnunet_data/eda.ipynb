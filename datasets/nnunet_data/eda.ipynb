{
 "cells": [
  {
   "cell_type": "code",
   "execution_count": 88,
   "metadata": {},
   "outputs": [],
   "source": [
    "import numpy as np\n",
    "import shutil\n",
    "\n",
    "import os\n",
    "\n",
    "\n",
    "import SimpleITK as sitk\n",
    "import nibabel as nib\n",
    "import glob"
   ]
  },
  {
   "cell_type": "code",
   "execution_count": 40,
   "metadata": {},
   "outputs": [
    {
     "data": {
      "text/plain": [
       "'/Users/kunkerdthaisong/intern_cariva/flare24/datasets/nnunet_data/segmentation/volumes/FLARE22_Tr_0001_0000.nii.gz'"
      ]
     },
     "execution_count": 40,
     "metadata": {},
     "output_type": "execute_result"
    }
   ],
   "source": [
    "image_l[0]"
   ]
  },
  {
   "cell_type": "code",
   "execution_count": 75,
   "metadata": {},
   "outputs": [
    {
     "name": "stderr",
     "output_type": "stream",
     "text": [
      "/var/folders/b_/lgrfxxx575sg8v5fpdzxfmtm0000gn/T/ipykernel_82066/1191952432.py:3: FutureWarning: arrays to stack must be passed as a \"sequence\" type such as list or tuple. Support for non-sequence iterables such as generators is deprecated as of NumPy 1.16 and will raise an error in the future.\n",
      "  data_npy = np.vstack([d.get_fdata()] for d in [img_nii])\n"
     ]
    },
    {
     "data": {
      "text/plain": [
       "(1, 512, 512, 110)"
      ]
     },
     "execution_count": 75,
     "metadata": {},
     "output_type": "execute_result"
    }
   ],
   "source": [
    "\n",
    "\n",
    "img_nii=nib.load(image_l[0])\n",
    "img_data = img_nii.get_fdata()[None]\n",
    "data_npy = np.vstack([d.get_fdata()] for d in [img_nii])\n",
    "data_npy.shape"
   ]
  },
  {
   "cell_type": "code",
   "execution_count": 45,
   "metadata": {},
   "outputs": [],
   "source": [
    "data_files=[image_l[0]]"
   ]
  },
  {
   "cell_type": "code",
   "execution_count": 85,
   "metadata": {},
   "outputs": [
    {
     "data": {
      "text/plain": [
       "(3,)"
      ]
     },
     "execution_count": 85,
     "metadata": {},
     "output_type": "execute_result"
    }
   ],
   "source": [
    "d=sitk.ReadImage(image_l[0])\n",
    "s=sitk.ReadImage(mask_l[0])\n",
    "s_np=sitk.GetArrayFromImage(s)[None]\n",
    "\n",
    "\n",
    "\n",
    "np.array(d.GetSize())[[2,1,0]].shape"
   ]
  },
  {
   "cell_type": "code",
   "execution_count": 90,
   "metadata": {},
   "outputs": [
    {
     "name": "stdout",
     "output_type": "stream",
     "text": [
      "/Users/kunkerdthaisong/intern_cariva/flare24/datasets/nnunet_data\n"
     ]
    }
   ],
   "source": [
    "!pwd"
   ]
  },
  {
   "cell_type": "code",
   "execution_count": 95,
   "metadata": {},
   "outputs": [],
   "source": [
    "data_itks=[sitk.ReadImage('/Users/kunkerdthaisong/intern_cariva/flare24/datasets/nnunet_data/nnUNet_raw/Task501_FLARE/imagesTr/FLARE_002_0000.nii.gz')]\n",
    "\n"
   ]
  },
  {
   "cell_type": "code",
   "execution_count": 57,
   "metadata": {},
   "outputs": [
    {
     "data": {
      "text/plain": [
       "(1, 110, 512, 512)"
      ]
     },
     "execution_count": 57,
     "metadata": {},
     "output_type": "execute_result"
    }
   ],
   "source": [
    "np.vstack([sitk.GetArrayFromImage(d_)[None] for d_ in [d]]).shape"
   ]
  },
  {
   "cell_type": "code",
   "execution_count": 94,
   "metadata": {},
   "outputs": [
    {
     "ename": "TypeError",
     "evalue": "expected str, bytes or os.PathLike object, not Image",
     "output_type": "error",
     "traceback": [
      "\u001b[0;31m---------------------------------------------------------------------------\u001b[0m",
      "\u001b[0;31mTypeError\u001b[0m                                 Traceback (most recent call last)",
      "Cell \u001b[0;32mIn[94], line 1\u001b[0m\n\u001b[0;32m----> 1\u001b[0m data_nib \u001b[38;5;241m=\u001b[39m \u001b[43m[\u001b[49m\u001b[43mnib\u001b[49m\u001b[38;5;241;43m.\u001b[39;49m\u001b[43mload\u001b[49m\u001b[43m(\u001b[49m\u001b[43mf\u001b[49m\u001b[43m)\u001b[49m\u001b[43m \u001b[49m\u001b[38;5;28;43;01mfor\u001b[39;49;00m\u001b[43m \u001b[49m\u001b[43mf\u001b[49m\u001b[43m \u001b[49m\u001b[38;5;129;43;01min\u001b[39;49;00m\u001b[43m \u001b[49m\u001b[43mdata_itk\u001b[49m\u001b[43m]\u001b[49m\n\u001b[1;32m      3\u001b[0m header \u001b[38;5;241m=\u001b[39m data_nib[\u001b[38;5;241m0\u001b[39m]\u001b[38;5;241m.\u001b[39mheader\n\u001b[1;32m      4\u001b[0m affine \u001b[38;5;241m=\u001b[39m data_nib[\u001b[38;5;241m0\u001b[39m]\u001b[38;5;241m.\u001b[39maffine\n",
      "Cell \u001b[0;32mIn[94], line 1\u001b[0m, in \u001b[0;36m<listcomp>\u001b[0;34m(.0)\u001b[0m\n\u001b[0;32m----> 1\u001b[0m data_nib \u001b[38;5;241m=\u001b[39m [\u001b[43mnib\u001b[49m\u001b[38;5;241;43m.\u001b[39;49m\u001b[43mload\u001b[49m\u001b[43m(\u001b[49m\u001b[43mf\u001b[49m\u001b[43m)\u001b[49m \u001b[38;5;28;01mfor\u001b[39;00m f \u001b[38;5;129;01min\u001b[39;00m data_itk]\n\u001b[1;32m      3\u001b[0m header \u001b[38;5;241m=\u001b[39m data_nib[\u001b[38;5;241m0\u001b[39m]\u001b[38;5;241m.\u001b[39mheader\n\u001b[1;32m      4\u001b[0m affine \u001b[38;5;241m=\u001b[39m data_nib[\u001b[38;5;241m0\u001b[39m]\u001b[38;5;241m.\u001b[39maffine\n",
      "File \u001b[0;32m/Library/Frameworks/Python.framework/Versions/3.11/lib/python3.11/site-packages/nibabel/loadsave.py:96\u001b[0m, in \u001b[0;36mload\u001b[0;34m(filename, **kwargs)\u001b[0m\n\u001b[1;32m     81\u001b[0m \u001b[38;5;28;01mdef\u001b[39;00m \u001b[38;5;21mload\u001b[39m(filename: FileSpec, \u001b[38;5;241m*\u001b[39m\u001b[38;5;241m*\u001b[39mkwargs) \u001b[38;5;241m-\u001b[39m\u001b[38;5;241m>\u001b[39m FileBasedImage:\n\u001b[1;32m     82\u001b[0m     \u001b[38;5;124mr\u001b[39m\u001b[38;5;124;03m\"\"\"Load file given filename, guessing at file type\u001b[39;00m\n\u001b[1;32m     83\u001b[0m \n\u001b[1;32m     84\u001b[0m \u001b[38;5;124;03m    Parameters\u001b[39;00m\n\u001b[0;32m   (...)\u001b[0m\n\u001b[1;32m     94\u001b[0m \u001b[38;5;124;03m       Image of guessed type\u001b[39;00m\n\u001b[1;32m     95\u001b[0m \u001b[38;5;124;03m    \"\"\"\u001b[39;00m\n\u001b[0;32m---> 96\u001b[0m     filename \u001b[38;5;241m=\u001b[39m \u001b[43m_stringify_path\u001b[49m\u001b[43m(\u001b[49m\u001b[43mfilename\u001b[49m\u001b[43m)\u001b[49m\n\u001b[1;32m     98\u001b[0m     \u001b[38;5;66;03m# Check file exists and is not empty\u001b[39;00m\n\u001b[1;32m     99\u001b[0m     \u001b[38;5;28;01mtry\u001b[39;00m:\n",
      "File \u001b[0;32m/Library/Frameworks/Python.framework/Versions/3.11/lib/python3.11/site-packages/nibabel/filename_parser.py:41\u001b[0m, in \u001b[0;36m_stringify_path\u001b[0;34m(filepath_or_buffer)\u001b[0m\n\u001b[1;32m     25\u001b[0m \u001b[38;5;28;01mdef\u001b[39;00m \u001b[38;5;21m_stringify_path\u001b[39m(filepath_or_buffer: FileSpec) \u001b[38;5;241m-\u001b[39m\u001b[38;5;241m>\u001b[39m \u001b[38;5;28mstr\u001b[39m:\n\u001b[1;32m     26\u001b[0m     \u001b[38;5;124;03m\"\"\"Attempt to convert a path-like object to a string.\u001b[39;00m\n\u001b[1;32m     27\u001b[0m \n\u001b[1;32m     28\u001b[0m \u001b[38;5;124;03m    Parameters\u001b[39;00m\n\u001b[0;32m   (...)\u001b[0m\n\u001b[1;32m     39\u001b[0m \u001b[38;5;124;03m    https://github.com/pandas-dev/pandas/blob/325dd68/pandas/io/common.py#L131-L160\u001b[39;00m\n\u001b[1;32m     40\u001b[0m \u001b[38;5;124;03m    \"\"\"\u001b[39;00m\n\u001b[0;32m---> 41\u001b[0m     \u001b[38;5;28;01mreturn\u001b[39;00m \u001b[43mpathlib\u001b[49m\u001b[38;5;241;43m.\u001b[39;49m\u001b[43mPath\u001b[49m\u001b[43m(\u001b[49m\u001b[43mfilepath_or_buffer\u001b[49m\u001b[43m)\u001b[49m\u001b[38;5;241m.\u001b[39mexpanduser()\u001b[38;5;241m.\u001b[39mas_posix()\n",
      "File \u001b[0;32m/Library/Frameworks/Python.framework/Versions/3.11/lib/python3.11/pathlib.py:871\u001b[0m, in \u001b[0;36mPath.__new__\u001b[0;34m(cls, *args, **kwargs)\u001b[0m\n\u001b[1;32m    869\u001b[0m \u001b[38;5;28;01mif\u001b[39;00m \u001b[38;5;28mcls\u001b[39m \u001b[38;5;129;01mis\u001b[39;00m Path:\n\u001b[1;32m    870\u001b[0m     \u001b[38;5;28mcls\u001b[39m \u001b[38;5;241m=\u001b[39m WindowsPath \u001b[38;5;28;01mif\u001b[39;00m os\u001b[38;5;241m.\u001b[39mname \u001b[38;5;241m==\u001b[39m \u001b[38;5;124m'\u001b[39m\u001b[38;5;124mnt\u001b[39m\u001b[38;5;124m'\u001b[39m \u001b[38;5;28;01melse\u001b[39;00m PosixPath\n\u001b[0;32m--> 871\u001b[0m \u001b[38;5;28mself\u001b[39m \u001b[38;5;241m=\u001b[39m \u001b[38;5;28;43mcls\u001b[39;49m\u001b[38;5;241;43m.\u001b[39;49m\u001b[43m_from_parts\u001b[49m\u001b[43m(\u001b[49m\u001b[43margs\u001b[49m\u001b[43m)\u001b[49m\n\u001b[1;32m    872\u001b[0m \u001b[38;5;28;01mif\u001b[39;00m \u001b[38;5;129;01mnot\u001b[39;00m \u001b[38;5;28mself\u001b[39m\u001b[38;5;241m.\u001b[39m_flavour\u001b[38;5;241m.\u001b[39mis_supported:\n\u001b[1;32m    873\u001b[0m     \u001b[38;5;28;01mraise\u001b[39;00m \u001b[38;5;167;01mNotImplementedError\u001b[39;00m(\u001b[38;5;124m\"\u001b[39m\u001b[38;5;124mcannot instantiate \u001b[39m\u001b[38;5;132;01m%r\u001b[39;00m\u001b[38;5;124m on your system\u001b[39m\u001b[38;5;124m\"\u001b[39m\n\u001b[1;32m    874\u001b[0m                               \u001b[38;5;241m%\u001b[39m (\u001b[38;5;28mcls\u001b[39m\u001b[38;5;241m.\u001b[39m\u001b[38;5;18m__name__\u001b[39m,))\n",
      "File \u001b[0;32m/Library/Frameworks/Python.framework/Versions/3.11/lib/python3.11/pathlib.py:509\u001b[0m, in \u001b[0;36mPurePath._from_parts\u001b[0;34m(cls, args)\u001b[0m\n\u001b[1;32m    504\u001b[0m \u001b[38;5;129m@classmethod\u001b[39m\n\u001b[1;32m    505\u001b[0m \u001b[38;5;28;01mdef\u001b[39;00m \u001b[38;5;21m_from_parts\u001b[39m(\u001b[38;5;28mcls\u001b[39m, args):\n\u001b[1;32m    506\u001b[0m     \u001b[38;5;66;03m# We need to call _parse_args on the instance, so as to get the\u001b[39;00m\n\u001b[1;32m    507\u001b[0m     \u001b[38;5;66;03m# right flavour.\u001b[39;00m\n\u001b[1;32m    508\u001b[0m     \u001b[38;5;28mself\u001b[39m \u001b[38;5;241m=\u001b[39m \u001b[38;5;28mobject\u001b[39m\u001b[38;5;241m.\u001b[39m\u001b[38;5;21m__new__\u001b[39m(\u001b[38;5;28mcls\u001b[39m)\n\u001b[0;32m--> 509\u001b[0m     drv, root, parts \u001b[38;5;241m=\u001b[39m \u001b[38;5;28;43mself\u001b[39;49m\u001b[38;5;241;43m.\u001b[39;49m\u001b[43m_parse_args\u001b[49m\u001b[43m(\u001b[49m\u001b[43margs\u001b[49m\u001b[43m)\u001b[49m\n\u001b[1;32m    510\u001b[0m     \u001b[38;5;28mself\u001b[39m\u001b[38;5;241m.\u001b[39m_drv \u001b[38;5;241m=\u001b[39m drv\n\u001b[1;32m    511\u001b[0m     \u001b[38;5;28mself\u001b[39m\u001b[38;5;241m.\u001b[39m_root \u001b[38;5;241m=\u001b[39m root\n",
      "File \u001b[0;32m/Library/Frameworks/Python.framework/Versions/3.11/lib/python3.11/pathlib.py:493\u001b[0m, in \u001b[0;36mPurePath._parse_args\u001b[0;34m(cls, args)\u001b[0m\n\u001b[1;32m    491\u001b[0m     parts \u001b[38;5;241m+\u001b[39m\u001b[38;5;241m=\u001b[39m a\u001b[38;5;241m.\u001b[39m_parts\n\u001b[1;32m    492\u001b[0m \u001b[38;5;28;01melse\u001b[39;00m:\n\u001b[0;32m--> 493\u001b[0m     a \u001b[38;5;241m=\u001b[39m os\u001b[38;5;241m.\u001b[39mfspath(a)\n\u001b[1;32m    494\u001b[0m     \u001b[38;5;28;01mif\u001b[39;00m \u001b[38;5;28misinstance\u001b[39m(a, \u001b[38;5;28mstr\u001b[39m):\n\u001b[1;32m    495\u001b[0m         \u001b[38;5;66;03m# Force-cast str subclasses to str (issue #21127)\u001b[39;00m\n\u001b[1;32m    496\u001b[0m         parts\u001b[38;5;241m.\u001b[39mappend(\u001b[38;5;28mstr\u001b[39m(a))\n",
      "\u001b[0;31mTypeError\u001b[0m: expected str, bytes or os.PathLike object, not Image"
     ]
    }
   ],
   "source": [
    "data_nib = [nib.load(f) for f in data_files]\n",
    "\n",
    "header = data_nib[0].header\n",
    "affine = data_nib[0].affine\n",
    "\n",
    "properties = {}\n",
    "properties[\"original_size_of_raw_data\"] = np.array(header.get_data_shape())[[2, 1, 0]]\n",
    "properties[\"original_spacing\"] = np.array(header.get_zooms())[[2, 1, 0]]\n",
    "properties[\"list_of_data_files\"] = data_files\n",
    "properties[\"seg_file\"] = 'seg_file.nii.gz'  # replace with your actual segmentation file path\n",
    "\n",
    "# NiBabel does not provide direct methods for origin and direction\n",
    "# However, you can extract the affine transformation matrix components\n",
    "\n",
    "properties[\"itk_origin\"] = affine[:3, 3]\n",
    "properties[\"itk_spacing\"] = np.linalg.norm(affine[:3, :3], axis=0)\n",
    "properties[\"itk_direction\"] = affine[:3, :3] / properties[\"itk_spacing\"]\n",
    "\n",
    "\n",
    "\n",
    "for i in properties.items():\n",
    "    print(i)"
   ]
  },
  {
   "cell_type": "code",
   "execution_count": 97,
   "metadata": {},
   "outputs": [
    {
     "data": {
      "text/plain": [
       "[<SimpleITK.SimpleITK.Image; proxy of <Swig Object of type 'itk::simple::Image *' at 0x13b71de30> >]"
      ]
     },
     "execution_count": 97,
     "metadata": {},
     "output_type": "execute_result"
    }
   ],
   "source": []
  },
  {
   "cell_type": "code",
   "execution_count": 103,
   "metadata": {},
   "outputs": [
    {
     "data": {
      "text/plain": [
       "((1, 110, 512, 512),\n",
       " (1, 92, 512, 512),\n",
       " {'original_size_of_raw_data': array([110, 512, 512]),\n",
       "  'original_spacing': array([2.5       , 0.64453101, 0.64453101]),\n",
       "  'list_of_data_files': '/Users/kunkerdthaisong/intern_cariva/flare24/datasets/nnunet_data/segmentation/volumes/FLARE22_Tr_0001_0000.nii.gz',\n",
       "  'seg_file': 'seg_file.nii.gz',\n",
       "  'itk_origin': (329.3553466796875, 329.3553466796875, 0.0),\n",
       "  'itk_spacing': (0.6445310115814209, 0.6445310115814209, 2.5),\n",
       "  'itk_direction': (-1.0, 0.0, 0.0, 0.0, -1.0, 0.0, 0.0, 0.0, 1.0)})"
      ]
     },
     "execution_count": 103,
     "metadata": {},
     "output_type": "execute_result"
    }
   ],
   "source": [
    "data_itk=[sitk.ReadImage('/Users/kunkerdthaisong/intern_cariva/flare24/datasets/nnunet_data/nnUNet_raw/Task501_FLARE/imagesTr/FLARE_002_0000.nii.gz')]\n",
    "\n",
    "\n",
    "properties[\"original_size_of_raw_data\"] = np.array(data_itk[0].GetSize())[[2, 1, 0]]\n",
    "properties[\"original_spacing\"] = np.array(data_itk[0].GetSpacing())[[2, 1, 0]]\n",
    "properties[\"list_of_data_files\"] = data_files\n",
    "properties[\"seg_file\"] = 'seg_file.nii.gz'\n",
    "\n",
    "properties[\"itk_origin\"] = data_itk[0].GetOrigin()\n",
    "properties[\"itk_spacing\"] = data_itk[0].GetSpacing()\n",
    "properties[\"itk_direction\"] = data_itk[0].GetDirection()\n",
    "\n",
    "data_npy = np.vstack([sitk.GetArrayFromImage(d)[None] for d in data_itk])\n",
    "seg_file=\"\"\n",
    "if seg_file is not None:\n",
    "    seg_itk = sitk.ReadImage(\"/Users/kunkerdthaisong/intern_cariva/flare24/datasets/nnunet_data/nnUNet_raw/Task501_FLARE/labelsTr/FLARE_002.nii.gz\")\n",
    "    seg_npy = sitk.GetArrayFromImage(seg_itk)[None].astype(np.float32)\n",
    "else:\n",
    "    seg_npy = None\n",
    "data_npy.astype(np.float32).shape, seg_npy.shape,properties"
   ]
  },
  {
   "cell_type": "code",
   "execution_count": 102,
   "metadata": {},
   "outputs": [
    {
     "data": {
      "text/plain": [
       "((1, 110, 512, 512),\n",
       " (1, 92, 512, 512),\n",
       " {'original_size_of_raw_data': array([110, 512, 512]),\n",
       "  'original_spacing': array([2.5       , 0.64453101, 0.64453101]),\n",
       "  'list_of_data_files': '/Users/kunkerdthaisong/intern_cariva/flare24/datasets/nnunet_data/segmentation/volumes/FLARE22_Tr_0001_0000.nii.gz',\n",
       "  'seg_file': 'seg_file.nii.gz',\n",
       "  'itk_origin': (329.3553466796875, 329.3553466796875, 0.0),\n",
       "  'itk_spacing': (0.6445310115814209, 0.6445310115814209, 2.5),\n",
       "  'itk_direction': (-1.0, 0.0, 0.0, 0.0, -1.0, 0.0, 0.0, 0.0, 1.0)})"
      ]
     },
     "execution_count": 102,
     "metadata": {},
     "output_type": "execute_result"
    }
   ],
   "source": []
  },
  {
   "cell_type": "code",
   "execution_count": 23,
   "metadata": {},
   "outputs": [],
   "source": [
    "image_list=sorted(glob.glob(\"/Users/kunkerdthaisong/intern_cariva/flare24/datasets/nnunet_data/nnUNet_raw/Dataset500_FLARE/imagesTr/*.nii.gz\"))\n",
    "label_list=sorted(glob.glob(\"/Users/kunkerdthaisong/intern_cariva/flare24/datasets/nnunet_data/nnUNet_raw/Dataset500_FLARE/labelsTr/*.nii.gz\"))\n",
    "for image_file, label_file in zip(image_list, label_list):\n",
    "    image = sitk.ReadImage(image_file)\n",
    "    label = sitk.ReadImage(label_file)\n",
    "\n",
    "    image_array = sitk.GetArrayFromImage(image)\n",
    "    label_array = sitk.GetArrayFromImage(label)\n",
    "\n",
    "    print(f'Image: {image_file}, Shape: {image_array.shape}')\n",
    "    print(f'Label: {label_file}, Shape: {label_array.shape}')\n",
    "    print('-'*50)\n",
    "\n",
    "    if image_array.shape != label_array.shape:\n",
    "        print(f'Mismatch found: {image_file} and {label_file}')\n",
    "        print(\"x\"*50)\n"
   ]
  },
  {
   "cell_type": "code",
   "execution_count": null,
   "metadata": {},
   "outputs": [],
   "source": []
  },
  {
   "cell_type": "code",
   "execution_count": 43,
   "metadata": {},
   "outputs": [
    {
     "name": "stdout",
     "output_type": "stream",
     "text": [
      "/Users/kunkerdthaisong/intern_cariva/flare24/datasets/nnunet_data/nnUNet_raw/Dataset050_FLARE/labelsTr/FLARE_014.nii.gz\n"
     ]
    }
   ],
   "source": [
    "print(label_list[0])"
   ]
  },
  {
   "cell_type": "code",
   "execution_count": 3,
   "metadata": {},
   "outputs": [],
   "source": [
    "a=\"/Users/kunkerdthaisong/intern_cariva/flare24/datasets/nnunet_data/nnUNet_raw/Dataset100_SPINE/labelsTr/SPINE_000.nii.gz\""
   ]
  },
  {
   "cell_type": "code",
   "execution_count": 12,
   "metadata": {},
   "outputs": [],
   "source": [
    "image_l=sorted(glob.glob(\"/Users/kunkerdthaisong/intern_cariva/flare24/datasets/nnunet_data/segmentation/volumes/*\"))\n",
    "mask_l=sorted(glob.glob(\"/Users/kunkerdthaisong/intern_cariva/flare24/datasets/nnunet_data/segmentation/segmentations/*\"))\n"
   ]
  },
  {
   "cell_type": "code",
   "execution_count": 13,
   "metadata": {},
   "outputs": [
    {
     "data": {
      "text/plain": [
       "['/Users/kunkerdthaisong/intern_cariva/flare24/datasets/nnunet_data/segmentation/volumes/FLARE22_Tr_0001_0000.nii.gz',\n",
       " '/Users/kunkerdthaisong/intern_cariva/flare24/datasets/nnunet_data/segmentation/volumes/FLARE22_Tr_0002_0000.nii.gz',\n",
       " '/Users/kunkerdthaisong/intern_cariva/flare24/datasets/nnunet_data/segmentation/volumes/FLARE22_Tr_0003_0000.nii.gz',\n",
       " '/Users/kunkerdthaisong/intern_cariva/flare24/datasets/nnunet_data/segmentation/volumes/FLARE22_Tr_0004_0000.nii.gz',\n",
       " '/Users/kunkerdthaisong/intern_cariva/flare24/datasets/nnunet_data/segmentation/volumes/FLARE22_Tr_0005_0000.nii.gz',\n",
       " '/Users/kunkerdthaisong/intern_cariva/flare24/datasets/nnunet_data/segmentation/volumes/FLARE22_Tr_0006_0000.nii.gz',\n",
       " '/Users/kunkerdthaisong/intern_cariva/flare24/datasets/nnunet_data/segmentation/volumes/FLARE22_Tr_0007_0000.nii.gz',\n",
       " '/Users/kunkerdthaisong/intern_cariva/flare24/datasets/nnunet_data/segmentation/volumes/FLARE22_Tr_0008_0000.nii.gz',\n",
       " '/Users/kunkerdthaisong/intern_cariva/flare24/datasets/nnunet_data/segmentation/volumes/FLARE22_Tr_0009_0000.nii.gz',\n",
       " '/Users/kunkerdthaisong/intern_cariva/flare24/datasets/nnunet_data/segmentation/volumes/FLARE22_Tr_0010_0000.nii.gz',\n",
       " '/Users/kunkerdthaisong/intern_cariva/flare24/datasets/nnunet_data/segmentation/volumes/FLARE22_Tr_0011_0000.nii.gz',\n",
       " '/Users/kunkerdthaisong/intern_cariva/flare24/datasets/nnunet_data/segmentation/volumes/FLARE22_Tr_0012_0000.nii.gz',\n",
       " '/Users/kunkerdthaisong/intern_cariva/flare24/datasets/nnunet_data/segmentation/volumes/FLARE22_Tr_0013_0000.nii.gz',\n",
       " '/Users/kunkerdthaisong/intern_cariva/flare24/datasets/nnunet_data/segmentation/volumes/FLARE22_Tr_0014_0000.nii.gz',\n",
       " '/Users/kunkerdthaisong/intern_cariva/flare24/datasets/nnunet_data/segmentation/volumes/FLARE22_Tr_0015_0000.nii.gz',\n",
       " '/Users/kunkerdthaisong/intern_cariva/flare24/datasets/nnunet_data/segmentation/volumes/FLARE22_Tr_0016_0000.nii.gz',\n",
       " '/Users/kunkerdthaisong/intern_cariva/flare24/datasets/nnunet_data/segmentation/volumes/FLARE22_Tr_0017_0000.nii.gz',\n",
       " '/Users/kunkerdthaisong/intern_cariva/flare24/datasets/nnunet_data/segmentation/volumes/FLARE22_Tr_0018_0000.nii.gz',\n",
       " '/Users/kunkerdthaisong/intern_cariva/flare24/datasets/nnunet_data/segmentation/volumes/FLARE22_Tr_0019_0000.nii.gz',\n",
       " '/Users/kunkerdthaisong/intern_cariva/flare24/datasets/nnunet_data/segmentation/volumes/FLARE22_Tr_0020_0000.nii.gz',\n",
       " '/Users/kunkerdthaisong/intern_cariva/flare24/datasets/nnunet_data/segmentation/volumes/FLARE22_Tr_0021_0000.nii.gz',\n",
       " '/Users/kunkerdthaisong/intern_cariva/flare24/datasets/nnunet_data/segmentation/volumes/FLARE22_Tr_0022_0000.nii.gz',\n",
       " '/Users/kunkerdthaisong/intern_cariva/flare24/datasets/nnunet_data/segmentation/volumes/FLARE22_Tr_0023_0000.nii.gz',\n",
       " '/Users/kunkerdthaisong/intern_cariva/flare24/datasets/nnunet_data/segmentation/volumes/FLARE22_Tr_0024_0000.nii.gz',\n",
       " '/Users/kunkerdthaisong/intern_cariva/flare24/datasets/nnunet_data/segmentation/volumes/FLARE22_Tr_0025_0000.nii.gz',\n",
       " '/Users/kunkerdthaisong/intern_cariva/flare24/datasets/nnunet_data/segmentation/volumes/FLARE22_Tr_0026_0000.nii.gz',\n",
       " '/Users/kunkerdthaisong/intern_cariva/flare24/datasets/nnunet_data/segmentation/volumes/FLARE22_Tr_0027_0000.nii.gz',\n",
       " '/Users/kunkerdthaisong/intern_cariva/flare24/datasets/nnunet_data/segmentation/volumes/FLARE22_Tr_0028_0000.nii.gz',\n",
       " '/Users/kunkerdthaisong/intern_cariva/flare24/datasets/nnunet_data/segmentation/volumes/FLARE22_Tr_0029_0000.nii.gz',\n",
       " '/Users/kunkerdthaisong/intern_cariva/flare24/datasets/nnunet_data/segmentation/volumes/FLARE22_Tr_0030_0000.nii.gz',\n",
       " '/Users/kunkerdthaisong/intern_cariva/flare24/datasets/nnunet_data/segmentation/volumes/FLARE22_Tr_0031_0000.nii.gz',\n",
       " '/Users/kunkerdthaisong/intern_cariva/flare24/datasets/nnunet_data/segmentation/volumes/FLARE22_Tr_0032_0000.nii.gz',\n",
       " '/Users/kunkerdthaisong/intern_cariva/flare24/datasets/nnunet_data/segmentation/volumes/FLARE22_Tr_0033_0000.nii.gz',\n",
       " '/Users/kunkerdthaisong/intern_cariva/flare24/datasets/nnunet_data/segmentation/volumes/FLARE22_Tr_0034_0000.nii.gz',\n",
       " '/Users/kunkerdthaisong/intern_cariva/flare24/datasets/nnunet_data/segmentation/volumes/FLARE22_Tr_0035_0000.nii.gz',\n",
       " '/Users/kunkerdthaisong/intern_cariva/flare24/datasets/nnunet_data/segmentation/volumes/FLARE22_Tr_0036_0000.nii.gz',\n",
       " '/Users/kunkerdthaisong/intern_cariva/flare24/datasets/nnunet_data/segmentation/volumes/FLARE22_Tr_0037_0000.nii.gz',\n",
       " '/Users/kunkerdthaisong/intern_cariva/flare24/datasets/nnunet_data/segmentation/volumes/FLARE22_Tr_0038_0000.nii.gz',\n",
       " '/Users/kunkerdthaisong/intern_cariva/flare24/datasets/nnunet_data/segmentation/volumes/FLARE22_Tr_0039_0000.nii.gz',\n",
       " '/Users/kunkerdthaisong/intern_cariva/flare24/datasets/nnunet_data/segmentation/volumes/FLARE22_Tr_0040_0000.nii.gz',\n",
       " '/Users/kunkerdthaisong/intern_cariva/flare24/datasets/nnunet_data/segmentation/volumes/FLARE22_Tr_0041_0000.nii.gz',\n",
       " '/Users/kunkerdthaisong/intern_cariva/flare24/datasets/nnunet_data/segmentation/volumes/FLARE22_Tr_0042_0000.nii.gz',\n",
       " '/Users/kunkerdthaisong/intern_cariva/flare24/datasets/nnunet_data/segmentation/volumes/FLARE22_Tr_0043_0000.nii.gz',\n",
       " '/Users/kunkerdthaisong/intern_cariva/flare24/datasets/nnunet_data/segmentation/volumes/FLARE22_Tr_0044_0000.nii.gz',\n",
       " '/Users/kunkerdthaisong/intern_cariva/flare24/datasets/nnunet_data/segmentation/volumes/FLARE22_Tr_0045_0000.nii.gz',\n",
       " '/Users/kunkerdthaisong/intern_cariva/flare24/datasets/nnunet_data/segmentation/volumes/FLARE22_Tr_0046_0000.nii.gz',\n",
       " '/Users/kunkerdthaisong/intern_cariva/flare24/datasets/nnunet_data/segmentation/volumes/FLARE22_Tr_0047_0000.nii.gz',\n",
       " '/Users/kunkerdthaisong/intern_cariva/flare24/datasets/nnunet_data/segmentation/volumes/FLARE22_Tr_0048_0000.nii.gz',\n",
       " '/Users/kunkerdthaisong/intern_cariva/flare24/datasets/nnunet_data/segmentation/volumes/FLARE22_Tr_0049_0000.nii.gz',\n",
       " '/Users/kunkerdthaisong/intern_cariva/flare24/datasets/nnunet_data/segmentation/volumes/FLARE22_Tr_0050_0000.nii.gz']"
      ]
     },
     "execution_count": 13,
     "metadata": {},
     "output_type": "execute_result"
    }
   ],
   "source": [
    "image_l"
   ]
  },
  {
   "cell_type": "code",
   "execution_count": 17,
   "metadata": {},
   "outputs": [
    {
     "data": {
      "text/plain": [
       "['/Users/kunkerdthaisong/intern_cariva/flare24/datasets/nnunet_data/segmentation/segmentations/FLARE22_Tr_0001.nii.gz',\n",
       " '/Users/kunkerdthaisong/intern_cariva/flare24/datasets/nnunet_data/segmentation/segmentations/FLARE22_Tr_0002.nii.gz',\n",
       " '/Users/kunkerdthaisong/intern_cariva/flare24/datasets/nnunet_data/segmentation/segmentations/FLARE22_Tr_0003.nii.gz',\n",
       " '/Users/kunkerdthaisong/intern_cariva/flare24/datasets/nnunet_data/segmentation/segmentations/FLARE22_Tr_0004.nii.gz',\n",
       " '/Users/kunkerdthaisong/intern_cariva/flare24/datasets/nnunet_data/segmentation/segmentations/FLARE22_Tr_0005.nii.gz',\n",
       " '/Users/kunkerdthaisong/intern_cariva/flare24/datasets/nnunet_data/segmentation/segmentations/FLARE22_Tr_0006.nii.gz',\n",
       " '/Users/kunkerdthaisong/intern_cariva/flare24/datasets/nnunet_data/segmentation/segmentations/FLARE22_Tr_0007.nii.gz',\n",
       " '/Users/kunkerdthaisong/intern_cariva/flare24/datasets/nnunet_data/segmentation/segmentations/FLARE22_Tr_0008.nii.gz',\n",
       " '/Users/kunkerdthaisong/intern_cariva/flare24/datasets/nnunet_data/segmentation/segmentations/FLARE22_Tr_0009.nii.gz',\n",
       " '/Users/kunkerdthaisong/intern_cariva/flare24/datasets/nnunet_data/segmentation/segmentations/FLARE22_Tr_0010.nii.gz',\n",
       " '/Users/kunkerdthaisong/intern_cariva/flare24/datasets/nnunet_data/segmentation/segmentations/FLARE22_Tr_0011.nii.gz',\n",
       " '/Users/kunkerdthaisong/intern_cariva/flare24/datasets/nnunet_data/segmentation/segmentations/FLARE22_Tr_0012.nii.gz',\n",
       " '/Users/kunkerdthaisong/intern_cariva/flare24/datasets/nnunet_data/segmentation/segmentations/FLARE22_Tr_0013.nii.gz',\n",
       " '/Users/kunkerdthaisong/intern_cariva/flare24/datasets/nnunet_data/segmentation/segmentations/FLARE22_Tr_0014.nii.gz',\n",
       " '/Users/kunkerdthaisong/intern_cariva/flare24/datasets/nnunet_data/segmentation/segmentations/FLARE22_Tr_0015.nii.gz',\n",
       " '/Users/kunkerdthaisong/intern_cariva/flare24/datasets/nnunet_data/segmentation/segmentations/FLARE22_Tr_0016.nii.gz',\n",
       " '/Users/kunkerdthaisong/intern_cariva/flare24/datasets/nnunet_data/segmentation/segmentations/FLARE22_Tr_0017.nii.gz',\n",
       " '/Users/kunkerdthaisong/intern_cariva/flare24/datasets/nnunet_data/segmentation/segmentations/FLARE22_Tr_0018.nii.gz',\n",
       " '/Users/kunkerdthaisong/intern_cariva/flare24/datasets/nnunet_data/segmentation/segmentations/FLARE22_Tr_0019.nii.gz',\n",
       " '/Users/kunkerdthaisong/intern_cariva/flare24/datasets/nnunet_data/segmentation/segmentations/FLARE22_Tr_0020.nii.gz',\n",
       " '/Users/kunkerdthaisong/intern_cariva/flare24/datasets/nnunet_data/segmentation/segmentations/FLARE22_Tr_0021.nii.gz',\n",
       " '/Users/kunkerdthaisong/intern_cariva/flare24/datasets/nnunet_data/segmentation/segmentations/FLARE22_Tr_0022.nii.gz',\n",
       " '/Users/kunkerdthaisong/intern_cariva/flare24/datasets/nnunet_data/segmentation/segmentations/FLARE22_Tr_0023.nii.gz',\n",
       " '/Users/kunkerdthaisong/intern_cariva/flare24/datasets/nnunet_data/segmentation/segmentations/FLARE22_Tr_0024.nii.gz',\n",
       " '/Users/kunkerdthaisong/intern_cariva/flare24/datasets/nnunet_data/segmentation/segmentations/FLARE22_Tr_0025.nii.gz',\n",
       " '/Users/kunkerdthaisong/intern_cariva/flare24/datasets/nnunet_data/segmentation/segmentations/FLARE22_Tr_0026.nii.gz',\n",
       " '/Users/kunkerdthaisong/intern_cariva/flare24/datasets/nnunet_data/segmentation/segmentations/FLARE22_Tr_0027.nii.gz',\n",
       " '/Users/kunkerdthaisong/intern_cariva/flare24/datasets/nnunet_data/segmentation/segmentations/FLARE22_Tr_0028.nii.gz',\n",
       " '/Users/kunkerdthaisong/intern_cariva/flare24/datasets/nnunet_data/segmentation/segmentations/FLARE22_Tr_0029.nii.gz',\n",
       " '/Users/kunkerdthaisong/intern_cariva/flare24/datasets/nnunet_data/segmentation/segmentations/FLARE22_Tr_0030.nii.gz',\n",
       " '/Users/kunkerdthaisong/intern_cariva/flare24/datasets/nnunet_data/segmentation/segmentations/FLARE22_Tr_0031.nii.gz',\n",
       " '/Users/kunkerdthaisong/intern_cariva/flare24/datasets/nnunet_data/segmentation/segmentations/FLARE22_Tr_0032.nii.gz',\n",
       " '/Users/kunkerdthaisong/intern_cariva/flare24/datasets/nnunet_data/segmentation/segmentations/FLARE22_Tr_0033.nii.gz',\n",
       " '/Users/kunkerdthaisong/intern_cariva/flare24/datasets/nnunet_data/segmentation/segmentations/FLARE22_Tr_0034.nii.gz',\n",
       " '/Users/kunkerdthaisong/intern_cariva/flare24/datasets/nnunet_data/segmentation/segmentations/FLARE22_Tr_0035.nii.gz',\n",
       " '/Users/kunkerdthaisong/intern_cariva/flare24/datasets/nnunet_data/segmentation/segmentations/FLARE22_Tr_0036.nii.gz',\n",
       " '/Users/kunkerdthaisong/intern_cariva/flare24/datasets/nnunet_data/segmentation/segmentations/FLARE22_Tr_0037.nii.gz',\n",
       " '/Users/kunkerdthaisong/intern_cariva/flare24/datasets/nnunet_data/segmentation/segmentations/FLARE22_Tr_0038.nii.gz',\n",
       " '/Users/kunkerdthaisong/intern_cariva/flare24/datasets/nnunet_data/segmentation/segmentations/FLARE22_Tr_0039.nii.gz',\n",
       " '/Users/kunkerdthaisong/intern_cariva/flare24/datasets/nnunet_data/segmentation/segmentations/FLARE22_Tr_0040.nii.gz',\n",
       " '/Users/kunkerdthaisong/intern_cariva/flare24/datasets/nnunet_data/segmentation/segmentations/FLARE22_Tr_0041.nii.gz',\n",
       " '/Users/kunkerdthaisong/intern_cariva/flare24/datasets/nnunet_data/segmentation/segmentations/FLARE22_Tr_0042.nii.gz',\n",
       " '/Users/kunkerdthaisong/intern_cariva/flare24/datasets/nnunet_data/segmentation/segmentations/FLARE22_Tr_0043.nii.gz',\n",
       " '/Users/kunkerdthaisong/intern_cariva/flare24/datasets/nnunet_data/segmentation/segmentations/FLARE22_Tr_0044.nii.gz',\n",
       " '/Users/kunkerdthaisong/intern_cariva/flare24/datasets/nnunet_data/segmentation/segmentations/FLARE22_Tr_0045.nii.gz',\n",
       " '/Users/kunkerdthaisong/intern_cariva/flare24/datasets/nnunet_data/segmentation/segmentations/FLARE22_Tr_0046.nii.gz',\n",
       " '/Users/kunkerdthaisong/intern_cariva/flare24/datasets/nnunet_data/segmentation/segmentations/FLARE22_Tr_0047.nii.gz',\n",
       " '/Users/kunkerdthaisong/intern_cariva/flare24/datasets/nnunet_data/segmentation/segmentations/FLARE22_Tr_0048.nii.gz',\n",
       " '/Users/kunkerdthaisong/intern_cariva/flare24/datasets/nnunet_data/segmentation/segmentations/FLARE22_Tr_0049.nii.gz',\n",
       " '/Users/kunkerdthaisong/intern_cariva/flare24/datasets/nnunet_data/segmentation/segmentations/FLARE22_Tr_0050.nii.gz']"
      ]
     },
     "execution_count": 17,
     "metadata": {},
     "output_type": "execute_result"
    }
   ],
   "source": [
    "mask_l"
   ]
  },
  {
   "cell_type": "code",
   "execution_count": 8,
   "metadata": {},
   "outputs": [],
   "source": [
    "for i in range(len(mask_l)):\n",
    "    \n",
    "    shutil.move(mask_l[i],os.path.dirname(img_l[0]))\n",
    "    shutil.move(img_l[i],os.path.dirname(mask_l[0]))"
   ]
  },
  {
   "cell_type": "code",
   "execution_count": 6,
   "metadata": {},
   "outputs": [
    {
     "ename": "RuntimeError",
     "evalue": "Exception thrown in SimpleITK ImageFileReader_Execute: /tmp/SimpleITK/Code/IO/src/sitkImageReaderBase.cxx:97:\nsitk::ERROR: The file \"/Users/kunkerdthaisong/intern_cariva/flare24/datasets/nnunet_data/segmentation/volumes/FLARE22_Tr_0001.nii.gz\" does not exist.",
     "output_type": "error",
     "traceback": [
      "\u001b[0;31m---------------------------------------------------------------------------\u001b[0m",
      "\u001b[0;31mRuntimeError\u001b[0m                              Traceback (most recent call last)",
      "Cell \u001b[0;32mIn[6], line 1\u001b[0m\n\u001b[0;32m----> 1\u001b[0m mask\u001b[38;5;241m=\u001b[39m\u001b[43msitk\u001b[49m\u001b[38;5;241;43m.\u001b[39;49m\u001b[43mReadImage\u001b[49m\u001b[43m(\u001b[49m\u001b[38;5;124;43m\"\u001b[39;49m\u001b[38;5;124;43m/Users/kunkerdthaisong/intern_cariva/flare24/datasets/nnunet_data/segmentation/volumes/FLARE22_Tr_0001.nii.gz\u001b[39;49m\u001b[38;5;124;43m\"\u001b[39;49m\u001b[43m)\u001b[49m\n\u001b[1;32m      2\u001b[0m mask_arr\u001b[38;5;241m=\u001b[39msitk\u001b[38;5;241m.\u001b[39mGetArrayFromImage(mask)\n\u001b[1;32m      4\u001b[0m \u001b[38;5;28mprint\u001b[39m(np\u001b[38;5;241m.\u001b[39munique(mask_arr))\n",
      "File \u001b[0;32m/Library/Frameworks/Python.framework/Versions/3.11/lib/python3.11/site-packages/SimpleITK/extra.py:375\u001b[0m, in \u001b[0;36mReadImage\u001b[0;34m(fileName, outputPixelType, imageIO)\u001b[0m\n\u001b[1;32m    373\u001b[0m reader\u001b[38;5;241m.\u001b[39mSetImageIO(imageIO)\n\u001b[1;32m    374\u001b[0m reader\u001b[38;5;241m.\u001b[39mSetOutputPixelType(outputPixelType)\n\u001b[0;32m--> 375\u001b[0m \u001b[38;5;28;01mreturn\u001b[39;00m \u001b[43mreader\u001b[49m\u001b[38;5;241;43m.\u001b[39;49m\u001b[43mExecute\u001b[49m\u001b[43m(\u001b[49m\u001b[43m)\u001b[49m\n",
      "File \u001b[0;32m/Library/Frameworks/Python.framework/Versions/3.11/lib/python3.11/site-packages/SimpleITK/SimpleITK.py:8430\u001b[0m, in \u001b[0;36mImageFileReader.Execute\u001b[0;34m(self)\u001b[0m\n\u001b[1;32m   8417\u001b[0m \u001b[38;5;28;01mdef\u001b[39;00m \u001b[38;5;21mExecute\u001b[39m(\u001b[38;5;28mself\u001b[39m):\n\u001b[1;32m   8418\u001b[0m     \u001b[38;5;124mr\u001b[39m\u001b[38;5;124;03m\"\"\"\u001b[39;00m\n\u001b[1;32m   8419\u001b[0m \u001b[38;5;124;03m    Execute(ImageFileReader self) -> Image\u001b[39;00m\n\u001b[1;32m   8420\u001b[0m \n\u001b[0;32m   (...)\u001b[0m\n\u001b[1;32m   8428\u001b[0m \n\u001b[1;32m   8429\u001b[0m \u001b[38;5;124;03m    \"\"\"\u001b[39;00m\n\u001b[0;32m-> 8430\u001b[0m     \u001b[38;5;28;01mreturn\u001b[39;00m \u001b[43m_SimpleITK\u001b[49m\u001b[38;5;241;43m.\u001b[39;49m\u001b[43mImageFileReader_Execute\u001b[49m\u001b[43m(\u001b[49m\u001b[38;5;28;43mself\u001b[39;49m\u001b[43m)\u001b[49m\n",
      "\u001b[0;31mRuntimeError\u001b[0m: Exception thrown in SimpleITK ImageFileReader_Execute: /tmp/SimpleITK/Code/IO/src/sitkImageReaderBase.cxx:97:\nsitk::ERROR: The file \"/Users/kunkerdthaisong/intern_cariva/flare24/datasets/nnunet_data/segmentation/volumes/FLARE22_Tr_0001.nii.gz\" does not exist."
     ]
    }
   ],
   "source": [
    "mask=sitk.ReadImage(\"/Users/kunkerdthaisong/intern_cariva/flare24/datasets/nnunet_data/segmentation/volumes/FLARE22_Tr_0001.nii.gz\")\n",
    "mask_arr=sitk.GetArrayFromImage(mask)\n",
    "\n",
    "print(np.unique(mask_arr))"
   ]
  },
  {
   "cell_type": "code",
   "execution_count": 20,
   "metadata": {},
   "outputs": [
    {
     "name": "stdout",
     "output_type": "stream",
     "text": [
      "(110, 512, 512) (110, 512, 512)\n",
      "/Users/kunkerdthaisong/intern_cariva/flare24/datasets/nnunet_data/segmentation/segmentations/FLARE22_Tr_0001.nii.gz\n",
      "(107, 512, 512) (107, 512, 512)\n",
      "/Users/kunkerdthaisong/intern_cariva/flare24/datasets/nnunet_data/segmentation/segmentations/FLARE22_Tr_0002.nii.gz\n",
      "(101, 512, 512) (101, 512, 512)\n",
      "/Users/kunkerdthaisong/intern_cariva/flare24/datasets/nnunet_data/segmentation/segmentations/FLARE22_Tr_0003.nii.gz\n",
      "(87, 512, 512) (87, 512, 512)\n",
      "/Users/kunkerdthaisong/intern_cariva/flare24/datasets/nnunet_data/segmentation/segmentations/FLARE22_Tr_0004.nii.gz\n",
      "(85, 512, 512) (85, 512, 512)\n",
      "/Users/kunkerdthaisong/intern_cariva/flare24/datasets/nnunet_data/segmentation/segmentations/FLARE22_Tr_0005.nii.gz\n",
      "(93, 512, 512) (93, 512, 512)\n",
      "/Users/kunkerdthaisong/intern_cariva/flare24/datasets/nnunet_data/segmentation/segmentations/FLARE22_Tr_0006.nii.gz\n",
      "(105, 512, 512) (105, 512, 512)\n",
      "/Users/kunkerdthaisong/intern_cariva/flare24/datasets/nnunet_data/segmentation/segmentations/FLARE22_Tr_0007.nii.gz\n",
      "(99, 512, 512) (99, 512, 512)\n",
      "/Users/kunkerdthaisong/intern_cariva/flare24/datasets/nnunet_data/segmentation/segmentations/FLARE22_Tr_0008.nii.gz\n",
      "(87, 512, 512) (87, 512, 512)\n",
      "/Users/kunkerdthaisong/intern_cariva/flare24/datasets/nnunet_data/segmentation/segmentations/FLARE22_Tr_0009.nii.gz\n",
      "(96, 512, 512) (96, 512, 512)\n",
      "/Users/kunkerdthaisong/intern_cariva/flare24/datasets/nnunet_data/segmentation/segmentations/FLARE22_Tr_0010.nii.gz\n",
      "(84, 512, 512) (84, 512, 512)\n",
      "/Users/kunkerdthaisong/intern_cariva/flare24/datasets/nnunet_data/segmentation/segmentations/FLARE22_Tr_0011.nii.gz\n",
      "(103, 512, 512) (103, 512, 512)\n",
      "/Users/kunkerdthaisong/intern_cariva/flare24/datasets/nnunet_data/segmentation/segmentations/FLARE22_Tr_0012.nii.gz\n",
      "(91, 512, 512) (91, 512, 512)\n",
      "/Users/kunkerdthaisong/intern_cariva/flare24/datasets/nnunet_data/segmentation/segmentations/FLARE22_Tr_0013.nii.gz\n",
      "(71, 512, 512) (71, 512, 512)\n",
      "/Users/kunkerdthaisong/intern_cariva/flare24/datasets/nnunet_data/segmentation/segmentations/FLARE22_Tr_0014.nii.gz\n",
      "(84, 512, 512) (84, 512, 512)\n",
      "/Users/kunkerdthaisong/intern_cariva/flare24/datasets/nnunet_data/segmentation/segmentations/FLARE22_Tr_0015.nii.gz\n",
      "(93, 512, 512) (93, 512, 512)\n",
      "/Users/kunkerdthaisong/intern_cariva/flare24/datasets/nnunet_data/segmentation/segmentations/FLARE22_Tr_0016.nii.gz\n",
      "(108, 512, 512) (108, 512, 512)\n",
      "/Users/kunkerdthaisong/intern_cariva/flare24/datasets/nnunet_data/segmentation/segmentations/FLARE22_Tr_0017.nii.gz\n",
      "(98, 512, 512) (98, 512, 512)\n",
      "/Users/kunkerdthaisong/intern_cariva/flare24/datasets/nnunet_data/segmentation/segmentations/FLARE22_Tr_0018.nii.gz\n",
      "(98, 512, 512) (98, 512, 512)\n",
      "/Users/kunkerdthaisong/intern_cariva/flare24/datasets/nnunet_data/segmentation/segmentations/FLARE22_Tr_0019.nii.gz\n",
      "(92, 512, 512) (92, 512, 512)\n",
      "/Users/kunkerdthaisong/intern_cariva/flare24/datasets/nnunet_data/segmentation/segmentations/FLARE22_Tr_0020.nii.gz\n",
      "(100, 512, 512) (100, 512, 512)\n",
      "/Users/kunkerdthaisong/intern_cariva/flare24/datasets/nnunet_data/segmentation/segmentations/FLARE22_Tr_0021.nii.gz\n",
      "(98, 512, 512) (98, 512, 512)\n",
      "/Users/kunkerdthaisong/intern_cariva/flare24/datasets/nnunet_data/segmentation/segmentations/FLARE22_Tr_0022.nii.gz\n",
      "(102, 512, 512) (102, 512, 512)\n",
      "/Users/kunkerdthaisong/intern_cariva/flare24/datasets/nnunet_data/segmentation/segmentations/FLARE22_Tr_0023.nii.gz\n",
      "(99, 512, 512) (99, 512, 512)\n",
      "/Users/kunkerdthaisong/intern_cariva/flare24/datasets/nnunet_data/segmentation/segmentations/FLARE22_Tr_0024.nii.gz\n",
      "(85, 512, 512) (85, 512, 512)\n",
      "/Users/kunkerdthaisong/intern_cariva/flare24/datasets/nnunet_data/segmentation/segmentations/FLARE22_Tr_0025.nii.gz\n",
      "(104, 512, 512) (104, 512, 512)\n",
      "/Users/kunkerdthaisong/intern_cariva/flare24/datasets/nnunet_data/segmentation/segmentations/FLARE22_Tr_0026.nii.gz\n",
      "(102, 512, 512) (102, 512, 512)\n",
      "/Users/kunkerdthaisong/intern_cariva/flare24/datasets/nnunet_data/segmentation/segmentations/FLARE22_Tr_0027.nii.gz\n",
      "(89, 512, 512) (89, 512, 512)\n",
      "/Users/kunkerdthaisong/intern_cariva/flare24/datasets/nnunet_data/segmentation/segmentations/FLARE22_Tr_0028.nii.gz\n",
      "(93, 512, 512) (93, 512, 512)\n",
      "/Users/kunkerdthaisong/intern_cariva/flare24/datasets/nnunet_data/segmentation/segmentations/FLARE22_Tr_0029.nii.gz\n",
      "(99, 512, 512) (99, 512, 512)\n",
      "/Users/kunkerdthaisong/intern_cariva/flare24/datasets/nnunet_data/segmentation/segmentations/FLARE22_Tr_0030.nii.gz\n",
      "(101, 512, 512) (101, 512, 512)\n",
      "/Users/kunkerdthaisong/intern_cariva/flare24/datasets/nnunet_data/segmentation/segmentations/FLARE22_Tr_0031.nii.gz\n",
      "(103, 512, 512) (103, 512, 512)\n",
      "/Users/kunkerdthaisong/intern_cariva/flare24/datasets/nnunet_data/segmentation/segmentations/FLARE22_Tr_0032.nii.gz\n",
      "(107, 512, 512) (107, 512, 512)\n",
      "/Users/kunkerdthaisong/intern_cariva/flare24/datasets/nnunet_data/segmentation/segmentations/FLARE22_Tr_0033.nii.gz\n",
      "(94, 512, 512) (94, 512, 512)\n",
      "/Users/kunkerdthaisong/intern_cariva/flare24/datasets/nnunet_data/segmentation/segmentations/FLARE22_Tr_0034.nii.gz\n",
      "(101, 512, 512) (101, 512, 512)\n",
      "/Users/kunkerdthaisong/intern_cariva/flare24/datasets/nnunet_data/segmentation/segmentations/FLARE22_Tr_0035.nii.gz\n",
      "(89, 512, 512) (89, 512, 512)\n",
      "/Users/kunkerdthaisong/intern_cariva/flare24/datasets/nnunet_data/segmentation/segmentations/FLARE22_Tr_0036.nii.gz\n",
      "(79, 512, 512) (79, 512, 512)\n",
      "/Users/kunkerdthaisong/intern_cariva/flare24/datasets/nnunet_data/segmentation/segmentations/FLARE22_Tr_0037.nii.gz\n",
      "(109, 512, 512) (109, 512, 512)\n",
      "/Users/kunkerdthaisong/intern_cariva/flare24/datasets/nnunet_data/segmentation/segmentations/FLARE22_Tr_0038.nii.gz\n",
      "(100, 512, 512) (100, 512, 512)\n",
      "/Users/kunkerdthaisong/intern_cariva/flare24/datasets/nnunet_data/segmentation/segmentations/FLARE22_Tr_0039.nii.gz\n",
      "(93, 512, 512) (93, 512, 512)\n",
      "/Users/kunkerdthaisong/intern_cariva/flare24/datasets/nnunet_data/segmentation/segmentations/FLARE22_Tr_0040.nii.gz\n",
      "(98, 512, 512) (98, 512, 512)\n",
      "/Users/kunkerdthaisong/intern_cariva/flare24/datasets/nnunet_data/segmentation/segmentations/FLARE22_Tr_0041.nii.gz\n",
      "(93, 512, 512) (93, 512, 512)\n",
      "/Users/kunkerdthaisong/intern_cariva/flare24/datasets/nnunet_data/segmentation/segmentations/FLARE22_Tr_0042.nii.gz\n",
      "(85, 512, 512) (85, 512, 512)\n",
      "/Users/kunkerdthaisong/intern_cariva/flare24/datasets/nnunet_data/segmentation/segmentations/FLARE22_Tr_0043.nii.gz\n",
      "(83, 512, 512) (83, 512, 512)\n",
      "/Users/kunkerdthaisong/intern_cariva/flare24/datasets/nnunet_data/segmentation/segmentations/FLARE22_Tr_0044.nii.gz\n",
      "(113, 512, 512) (113, 512, 512)\n",
      "/Users/kunkerdthaisong/intern_cariva/flare24/datasets/nnunet_data/segmentation/segmentations/FLARE22_Tr_0045.nii.gz\n",
      "(93, 512, 512) (93, 512, 512)\n",
      "/Users/kunkerdthaisong/intern_cariva/flare24/datasets/nnunet_data/segmentation/segmentations/FLARE22_Tr_0046.nii.gz\n",
      "(113, 512, 512) (113, 512, 512)\n",
      "/Users/kunkerdthaisong/intern_cariva/flare24/datasets/nnunet_data/segmentation/segmentations/FLARE22_Tr_0047.nii.gz\n",
      "(95, 512, 512) (95, 512, 512)\n",
      "/Users/kunkerdthaisong/intern_cariva/flare24/datasets/nnunet_data/segmentation/segmentations/FLARE22_Tr_0048.nii.gz\n",
      "(87, 512, 512) (87, 512, 512)\n",
      "/Users/kunkerdthaisong/intern_cariva/flare24/datasets/nnunet_data/segmentation/segmentations/FLARE22_Tr_0049.nii.gz\n",
      "(95, 512, 512) (95, 512, 512)\n",
      "/Users/kunkerdthaisong/intern_cariva/flare24/datasets/nnunet_data/segmentation/segmentations/FLARE22_Tr_0050.nii.gz\n",
      "True\n"
     ]
    }
   ],
   "source": [
    "boo=True\n",
    "#check shapes\n",
    "for i in range(len(mask_l)):\n",
    "    mask=sitk.ReadImage(mask_l[i])\n",
    "    image=sitk.ReadImage(image_l[i])\n",
    "    image_arr=sitk.GetArrayFromImage(image)\n",
    "    mask_arr=sitk.GetArrayFromImage(mask)\n",
    "    \n",
    "    #print(np.unique(image_arr))\n",
    "    print(mask_arr.shape,image_arr.shape)\n",
    "    print(mask_l[i])\n",
    "    if (mask_arr.shape==image_arr.shape)==False:\n",
    "        boo=False\n",
    "print(boo)\n",
    "    \n",
    "    "
   ]
  },
  {
   "cell_type": "code",
   "execution_count": 36,
   "metadata": {},
   "outputs": [],
   "source": []
  },
  {
   "cell_type": "code",
   "execution_count": 37,
   "metadata": {},
   "outputs": [
    {
     "data": {
      "text/plain": [
       "array([ 0,  1,  2,  3,  4,  5,  6,  7,  8,  9, 10, 11, 12, 13],\n",
       "      dtype=uint16)"
      ]
     },
     "execution_count": 37,
     "metadata": {},
     "output_type": "execute_result"
    }
   ],
   "source": [
    "np.unique(mask_arr)"
   ]
  },
  {
   "cell_type": "code",
   "execution_count": 27,
   "metadata": {},
   "outputs": [],
   "source": []
  },
  {
   "cell_type": "code",
   "execution_count": 11,
   "metadata": {},
   "outputs": [
    {
     "data": {
      "text/plain": [
       "(50, 50)"
      ]
     },
     "execution_count": 11,
     "metadata": {},
     "output_type": "execute_result"
    }
   ],
   "source": [
    "len(image_l),len(mask_l)\n"
   ]
  },
  {
   "cell_type": "code",
   "execution_count": 29,
   "metadata": {},
   "outputs": [],
   "source": [
    "\n",
    "\n",
    "\n",
    "for i in range(len(image_list)):\n",
    "    shutil.move(image_list[i],os.path.dirname(label_list[0]))\n",
    "    shutil.move(label_list[i],os.path.dirname(image_list[0]))"
   ]
  },
  {
   "cell_type": "code",
   "execution_count": 28,
   "metadata": {},
   "outputs": [
    {
     "data": {
      "text/plain": [
       "'/Users/kunkerdthaisong/intern_cariva/flare24/datasets/nnunet_data/nnUNet_raw/Dataset050_FLARE/labelsTr'"
      ]
     },
     "execution_count": 28,
     "metadata": {},
     "output_type": "execute_result"
    }
   ],
   "source": [
    "os.path.dirname(label_list[0])"
   ]
  },
  {
   "cell_type": "code",
   "execution_count": null,
   "metadata": {},
   "outputs": [],
   "source": []
  }
 ],
 "metadata": {
  "kernelspec": {
   "display_name": "Python 3",
   "language": "python",
   "name": "python3"
  },
  "language_info": {
   "codemirror_mode": {
    "name": "ipython",
    "version": 3
   },
   "file_extension": ".py",
   "mimetype": "text/x-python",
   "name": "python",
   "nbconvert_exporter": "python",
   "pygments_lexer": "ipython3",
   "version": "3.11.1"
  }
 },
 "nbformat": 4,
 "nbformat_minor": 2
}
