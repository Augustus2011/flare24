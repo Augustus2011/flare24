{
 "cells": [
  {
   "cell_type": "code",
   "execution_count": 5,
   "metadata": {},
   "outputs": [],
   "source": [
    "import numpy as np\n",
    "import shutil\n",
    "\n",
    "import os\n",
    "\n",
    "\n",
    "import SimpleITK as sitk\n",
    "import nibabel as nib\n",
    "import glob"
   ]
  },
  {
   "cell_type": "code",
   "execution_count": 6,
   "metadata": {},
   "outputs": [],
   "source": [
    "ex_i=sorted(glob.glob(\"/Users/kunkerdthaisong/intern_cariva/flare24/datasets/nnunet_data/nnUNet_raw/Dataset100_FLARE/imagesTr/*.nii.gz\"))\n",
    "ex_m=sorted(glob.glob(\"/Users/kunkerdthaisong/intern_cariva/flare24/datasets/nnunet_data/segmentation/segmentations/*.nii.gz\"))"
   ]
  },
  {
   "cell_type": "code",
   "execution_count": 7,
   "metadata": {},
   "outputs": [
    {
     "data": {
      "text/plain": [
       "['/Users/kunkerdthaisong/intern_cariva/flare24/datasets/nnunet_data/nnUNet_raw/Dataset100_FLARE/imagesTr/FLARE_000_0000.nii.gz',\n",
       " '/Users/kunkerdthaisong/intern_cariva/flare24/datasets/nnunet_data/nnUNet_raw/Dataset100_FLARE/imagesTr/FLARE_001_0000.nii.gz',\n",
       " '/Users/kunkerdthaisong/intern_cariva/flare24/datasets/nnunet_data/nnUNet_raw/Dataset100_FLARE/imagesTr/FLARE_002_0000.nii.gz',\n",
       " '/Users/kunkerdthaisong/intern_cariva/flare24/datasets/nnunet_data/nnUNet_raw/Dataset100_FLARE/imagesTr/FLARE_003_0000.nii.gz',\n",
       " '/Users/kunkerdthaisong/intern_cariva/flare24/datasets/nnunet_data/nnUNet_raw/Dataset100_FLARE/imagesTr/FLARE_004_0000.nii.gz',\n",
       " '/Users/kunkerdthaisong/intern_cariva/flare24/datasets/nnunet_data/nnUNet_raw/Dataset100_FLARE/imagesTr/FLARE_005_0000.nii.gz',\n",
       " '/Users/kunkerdthaisong/intern_cariva/flare24/datasets/nnunet_data/nnUNet_raw/Dataset100_FLARE/imagesTr/FLARE_006_0000.nii.gz',\n",
       " '/Users/kunkerdthaisong/intern_cariva/flare24/datasets/nnunet_data/nnUNet_raw/Dataset100_FLARE/imagesTr/FLARE_007_0000.nii.gz',\n",
       " '/Users/kunkerdthaisong/intern_cariva/flare24/datasets/nnunet_data/nnUNet_raw/Dataset100_FLARE/imagesTr/FLARE_008_0000.nii.gz',\n",
       " '/Users/kunkerdthaisong/intern_cariva/flare24/datasets/nnunet_data/nnUNet_raw/Dataset100_FLARE/imagesTr/FLARE_009_0000.nii.gz',\n",
       " '/Users/kunkerdthaisong/intern_cariva/flare24/datasets/nnunet_data/nnUNet_raw/Dataset100_FLARE/imagesTr/FLARE_010_0000.nii.gz',\n",
       " '/Users/kunkerdthaisong/intern_cariva/flare24/datasets/nnunet_data/nnUNet_raw/Dataset100_FLARE/imagesTr/FLARE_011_0000.nii.gz',\n",
       " '/Users/kunkerdthaisong/intern_cariva/flare24/datasets/nnunet_data/nnUNet_raw/Dataset100_FLARE/imagesTr/FLARE_012_0000.nii.gz',\n",
       " '/Users/kunkerdthaisong/intern_cariva/flare24/datasets/nnunet_data/nnUNet_raw/Dataset100_FLARE/imagesTr/FLARE_013_0000.nii.gz',\n",
       " '/Users/kunkerdthaisong/intern_cariva/flare24/datasets/nnunet_data/nnUNet_raw/Dataset100_FLARE/imagesTr/FLARE_014_0000.nii.gz',\n",
       " '/Users/kunkerdthaisong/intern_cariva/flare24/datasets/nnunet_data/nnUNet_raw/Dataset100_FLARE/imagesTr/FLARE_015_0000.nii.gz',\n",
       " '/Users/kunkerdthaisong/intern_cariva/flare24/datasets/nnunet_data/nnUNet_raw/Dataset100_FLARE/imagesTr/FLARE_016_0000.nii.gz',\n",
       " '/Users/kunkerdthaisong/intern_cariva/flare24/datasets/nnunet_data/nnUNet_raw/Dataset100_FLARE/imagesTr/FLARE_017_0000.nii.gz',\n",
       " '/Users/kunkerdthaisong/intern_cariva/flare24/datasets/nnunet_data/nnUNet_raw/Dataset100_FLARE/imagesTr/FLARE_018_0000.nii.gz',\n",
       " '/Users/kunkerdthaisong/intern_cariva/flare24/datasets/nnunet_data/nnUNet_raw/Dataset100_FLARE/imagesTr/FLARE_019_0000.nii.gz',\n",
       " '/Users/kunkerdthaisong/intern_cariva/flare24/datasets/nnunet_data/nnUNet_raw/Dataset100_FLARE/imagesTr/FLARE_020_0000.nii.gz',\n",
       " '/Users/kunkerdthaisong/intern_cariva/flare24/datasets/nnunet_data/nnUNet_raw/Dataset100_FLARE/imagesTr/FLARE_021_0000.nii.gz',\n",
       " '/Users/kunkerdthaisong/intern_cariva/flare24/datasets/nnunet_data/nnUNet_raw/Dataset100_FLARE/imagesTr/FLARE_022_0000.nii.gz',\n",
       " '/Users/kunkerdthaisong/intern_cariva/flare24/datasets/nnunet_data/nnUNet_raw/Dataset100_FLARE/imagesTr/FLARE_023_0000.nii.gz',\n",
       " '/Users/kunkerdthaisong/intern_cariva/flare24/datasets/nnunet_data/nnUNet_raw/Dataset100_FLARE/imagesTr/FLARE_024_0000.nii.gz',\n",
       " '/Users/kunkerdthaisong/intern_cariva/flare24/datasets/nnunet_data/nnUNet_raw/Dataset100_FLARE/imagesTr/FLARE_025_0000.nii.gz',\n",
       " '/Users/kunkerdthaisong/intern_cariva/flare24/datasets/nnunet_data/nnUNet_raw/Dataset100_FLARE/imagesTr/FLARE_026_0000.nii.gz',\n",
       " '/Users/kunkerdthaisong/intern_cariva/flare24/datasets/nnunet_data/nnUNet_raw/Dataset100_FLARE/imagesTr/FLARE_027_0000.nii.gz',\n",
       " '/Users/kunkerdthaisong/intern_cariva/flare24/datasets/nnunet_data/nnUNet_raw/Dataset100_FLARE/imagesTr/FLARE_028_0000.nii.gz',\n",
       " '/Users/kunkerdthaisong/intern_cariva/flare24/datasets/nnunet_data/nnUNet_raw/Dataset100_FLARE/imagesTr/FLARE_029_0000.nii.gz',\n",
       " '/Users/kunkerdthaisong/intern_cariva/flare24/datasets/nnunet_data/nnUNet_raw/Dataset100_FLARE/imagesTr/FLARE_030_0000.nii.gz',\n",
       " '/Users/kunkerdthaisong/intern_cariva/flare24/datasets/nnunet_data/nnUNet_raw/Dataset100_FLARE/imagesTr/FLARE_031_0000.nii.gz',\n",
       " '/Users/kunkerdthaisong/intern_cariva/flare24/datasets/nnunet_data/nnUNet_raw/Dataset100_FLARE/imagesTr/FLARE_032_0000.nii.gz',\n",
       " '/Users/kunkerdthaisong/intern_cariva/flare24/datasets/nnunet_data/nnUNet_raw/Dataset100_FLARE/imagesTr/FLARE_033_0000.nii.gz',\n",
       " '/Users/kunkerdthaisong/intern_cariva/flare24/datasets/nnunet_data/nnUNet_raw/Dataset100_FLARE/imagesTr/FLARE_034_0000.nii.gz',\n",
       " '/Users/kunkerdthaisong/intern_cariva/flare24/datasets/nnunet_data/nnUNet_raw/Dataset100_FLARE/imagesTr/FLARE_035_0000.nii.gz',\n",
       " '/Users/kunkerdthaisong/intern_cariva/flare24/datasets/nnunet_data/nnUNet_raw/Dataset100_FLARE/imagesTr/FLARE_036_0000.nii.gz',\n",
       " '/Users/kunkerdthaisong/intern_cariva/flare24/datasets/nnunet_data/nnUNet_raw/Dataset100_FLARE/imagesTr/FLARE_037_0000.nii.gz',\n",
       " '/Users/kunkerdthaisong/intern_cariva/flare24/datasets/nnunet_data/nnUNet_raw/Dataset100_FLARE/imagesTr/FLARE_038_0000.nii.gz',\n",
       " '/Users/kunkerdthaisong/intern_cariva/flare24/datasets/nnunet_data/nnUNet_raw/Dataset100_FLARE/imagesTr/FLARE_039_0000.nii.gz',\n",
       " '/Users/kunkerdthaisong/intern_cariva/flare24/datasets/nnunet_data/nnUNet_raw/Dataset100_FLARE/imagesTr/FLARE_040_0000.nii.gz',\n",
       " '/Users/kunkerdthaisong/intern_cariva/flare24/datasets/nnunet_data/nnUNet_raw/Dataset100_FLARE/imagesTr/FLARE_041_0000.nii.gz',\n",
       " '/Users/kunkerdthaisong/intern_cariva/flare24/datasets/nnunet_data/nnUNet_raw/Dataset100_FLARE/imagesTr/FLARE_042_0000.nii.gz',\n",
       " '/Users/kunkerdthaisong/intern_cariva/flare24/datasets/nnunet_data/nnUNet_raw/Dataset100_FLARE/imagesTr/FLARE_043_0000.nii.gz',\n",
       " '/Users/kunkerdthaisong/intern_cariva/flare24/datasets/nnunet_data/nnUNet_raw/Dataset100_FLARE/imagesTr/FLARE_044_0000.nii.gz',\n",
       " '/Users/kunkerdthaisong/intern_cariva/flare24/datasets/nnunet_data/nnUNet_raw/Dataset100_FLARE/imagesTr/FLARE_045_0000.nii.gz',\n",
       " '/Users/kunkerdthaisong/intern_cariva/flare24/datasets/nnunet_data/nnUNet_raw/Dataset100_FLARE/imagesTr/FLARE_046_0000.nii.gz',\n",
       " '/Users/kunkerdthaisong/intern_cariva/flare24/datasets/nnunet_data/nnUNet_raw/Dataset100_FLARE/imagesTr/FLARE_047_0000.nii.gz',\n",
       " '/Users/kunkerdthaisong/intern_cariva/flare24/datasets/nnunet_data/nnUNet_raw/Dataset100_FLARE/imagesTr/FLARE_048_0000.nii.gz',\n",
       " '/Users/kunkerdthaisong/intern_cariva/flare24/datasets/nnunet_data/nnUNet_raw/Dataset100_FLARE/imagesTr/FLARE_049_0000.nii.gz']"
      ]
     },
     "execution_count": 7,
     "metadata": {},
     "output_type": "execute_result"
    }
   ],
   "source": [
    "ex_i"
   ]
  },
  {
   "cell_type": "code",
   "execution_count": 8,
   "metadata": {},
   "outputs": [
    {
     "data": {
      "text/plain": [
       "['/Users/kunkerdthaisong/intern_cariva/flare24/datasets/nnunet_data/segmentation/segmentations/FLARE22_Tr_0001.nii.gz',\n",
       " '/Users/kunkerdthaisong/intern_cariva/flare24/datasets/nnunet_data/segmentation/segmentations/FLARE22_Tr_0002.nii.gz',\n",
       " '/Users/kunkerdthaisong/intern_cariva/flare24/datasets/nnunet_data/segmentation/segmentations/FLARE22_Tr_0003.nii.gz',\n",
       " '/Users/kunkerdthaisong/intern_cariva/flare24/datasets/nnunet_data/segmentation/segmentations/FLARE22_Tr_0004.nii.gz',\n",
       " '/Users/kunkerdthaisong/intern_cariva/flare24/datasets/nnunet_data/segmentation/segmentations/FLARE22_Tr_0005.nii.gz',\n",
       " '/Users/kunkerdthaisong/intern_cariva/flare24/datasets/nnunet_data/segmentation/segmentations/FLARE22_Tr_0006.nii.gz',\n",
       " '/Users/kunkerdthaisong/intern_cariva/flare24/datasets/nnunet_data/segmentation/segmentations/FLARE22_Tr_0007.nii.gz',\n",
       " '/Users/kunkerdthaisong/intern_cariva/flare24/datasets/nnunet_data/segmentation/segmentations/FLARE22_Tr_0008.nii.gz',\n",
       " '/Users/kunkerdthaisong/intern_cariva/flare24/datasets/nnunet_data/segmentation/segmentations/FLARE22_Tr_0009.nii.gz',\n",
       " '/Users/kunkerdthaisong/intern_cariva/flare24/datasets/nnunet_data/segmentation/segmentations/FLARE22_Tr_0010.nii.gz',\n",
       " '/Users/kunkerdthaisong/intern_cariva/flare24/datasets/nnunet_data/segmentation/segmentations/FLARE22_Tr_0011.nii.gz',\n",
       " '/Users/kunkerdthaisong/intern_cariva/flare24/datasets/nnunet_data/segmentation/segmentations/FLARE22_Tr_0012.nii.gz',\n",
       " '/Users/kunkerdthaisong/intern_cariva/flare24/datasets/nnunet_data/segmentation/segmentations/FLARE22_Tr_0013.nii.gz',\n",
       " '/Users/kunkerdthaisong/intern_cariva/flare24/datasets/nnunet_data/segmentation/segmentations/FLARE22_Tr_0014.nii.gz',\n",
       " '/Users/kunkerdthaisong/intern_cariva/flare24/datasets/nnunet_data/segmentation/segmentations/FLARE22_Tr_0015.nii.gz',\n",
       " '/Users/kunkerdthaisong/intern_cariva/flare24/datasets/nnunet_data/segmentation/segmentations/FLARE22_Tr_0016.nii.gz',\n",
       " '/Users/kunkerdthaisong/intern_cariva/flare24/datasets/nnunet_data/segmentation/segmentations/FLARE22_Tr_0017.nii.gz',\n",
       " '/Users/kunkerdthaisong/intern_cariva/flare24/datasets/nnunet_data/segmentation/segmentations/FLARE22_Tr_0018.nii.gz',\n",
       " '/Users/kunkerdthaisong/intern_cariva/flare24/datasets/nnunet_data/segmentation/segmentations/FLARE22_Tr_0019.nii.gz',\n",
       " '/Users/kunkerdthaisong/intern_cariva/flare24/datasets/nnunet_data/segmentation/segmentations/FLARE22_Tr_0020.nii.gz',\n",
       " '/Users/kunkerdthaisong/intern_cariva/flare24/datasets/nnunet_data/segmentation/segmentations/FLARE22_Tr_0021.nii.gz',\n",
       " '/Users/kunkerdthaisong/intern_cariva/flare24/datasets/nnunet_data/segmentation/segmentations/FLARE22_Tr_0022.nii.gz',\n",
       " '/Users/kunkerdthaisong/intern_cariva/flare24/datasets/nnunet_data/segmentation/segmentations/FLARE22_Tr_0023.nii.gz',\n",
       " '/Users/kunkerdthaisong/intern_cariva/flare24/datasets/nnunet_data/segmentation/segmentations/FLARE22_Tr_0024.nii.gz',\n",
       " '/Users/kunkerdthaisong/intern_cariva/flare24/datasets/nnunet_data/segmentation/segmentations/FLARE22_Tr_0025.nii.gz',\n",
       " '/Users/kunkerdthaisong/intern_cariva/flare24/datasets/nnunet_data/segmentation/segmentations/FLARE22_Tr_0026.nii.gz',\n",
       " '/Users/kunkerdthaisong/intern_cariva/flare24/datasets/nnunet_data/segmentation/segmentations/FLARE22_Tr_0027.nii.gz',\n",
       " '/Users/kunkerdthaisong/intern_cariva/flare24/datasets/nnunet_data/segmentation/segmentations/FLARE22_Tr_0028.nii.gz',\n",
       " '/Users/kunkerdthaisong/intern_cariva/flare24/datasets/nnunet_data/segmentation/segmentations/FLARE22_Tr_0029.nii.gz',\n",
       " '/Users/kunkerdthaisong/intern_cariva/flare24/datasets/nnunet_data/segmentation/segmentations/FLARE22_Tr_0030.nii.gz',\n",
       " '/Users/kunkerdthaisong/intern_cariva/flare24/datasets/nnunet_data/segmentation/segmentations/FLARE22_Tr_0031.nii.gz',\n",
       " '/Users/kunkerdthaisong/intern_cariva/flare24/datasets/nnunet_data/segmentation/segmentations/FLARE22_Tr_0032.nii.gz',\n",
       " '/Users/kunkerdthaisong/intern_cariva/flare24/datasets/nnunet_data/segmentation/segmentations/FLARE22_Tr_0033.nii.gz',\n",
       " '/Users/kunkerdthaisong/intern_cariva/flare24/datasets/nnunet_data/segmentation/segmentations/FLARE22_Tr_0034.nii.gz',\n",
       " '/Users/kunkerdthaisong/intern_cariva/flare24/datasets/nnunet_data/segmentation/segmentations/FLARE22_Tr_0035.nii.gz',\n",
       " '/Users/kunkerdthaisong/intern_cariva/flare24/datasets/nnunet_data/segmentation/segmentations/FLARE22_Tr_0036.nii.gz',\n",
       " '/Users/kunkerdthaisong/intern_cariva/flare24/datasets/nnunet_data/segmentation/segmentations/FLARE22_Tr_0037.nii.gz',\n",
       " '/Users/kunkerdthaisong/intern_cariva/flare24/datasets/nnunet_data/segmentation/segmentations/FLARE22_Tr_0038.nii.gz',\n",
       " '/Users/kunkerdthaisong/intern_cariva/flare24/datasets/nnunet_data/segmentation/segmentations/FLARE22_Tr_0039.nii.gz',\n",
       " '/Users/kunkerdthaisong/intern_cariva/flare24/datasets/nnunet_data/segmentation/segmentations/FLARE22_Tr_0040.nii.gz',\n",
       " '/Users/kunkerdthaisong/intern_cariva/flare24/datasets/nnunet_data/segmentation/segmentations/FLARE22_Tr_0041.nii.gz',\n",
       " '/Users/kunkerdthaisong/intern_cariva/flare24/datasets/nnunet_data/segmentation/segmentations/FLARE22_Tr_0042.nii.gz',\n",
       " '/Users/kunkerdthaisong/intern_cariva/flare24/datasets/nnunet_data/segmentation/segmentations/FLARE22_Tr_0043.nii.gz',\n",
       " '/Users/kunkerdthaisong/intern_cariva/flare24/datasets/nnunet_data/segmentation/segmentations/FLARE22_Tr_0044.nii.gz',\n",
       " '/Users/kunkerdthaisong/intern_cariva/flare24/datasets/nnunet_data/segmentation/segmentations/FLARE22_Tr_0045.nii.gz',\n",
       " '/Users/kunkerdthaisong/intern_cariva/flare24/datasets/nnunet_data/segmentation/segmentations/FLARE22_Tr_0046.nii.gz',\n",
       " '/Users/kunkerdthaisong/intern_cariva/flare24/datasets/nnunet_data/segmentation/segmentations/FLARE22_Tr_0047.nii.gz',\n",
       " '/Users/kunkerdthaisong/intern_cariva/flare24/datasets/nnunet_data/segmentation/segmentations/FLARE22_Tr_0048.nii.gz',\n",
       " '/Users/kunkerdthaisong/intern_cariva/flare24/datasets/nnunet_data/segmentation/segmentations/FLARE22_Tr_0049.nii.gz',\n",
       " '/Users/kunkerdthaisong/intern_cariva/flare24/datasets/nnunet_data/segmentation/segmentations/FLARE22_Tr_0050.nii.gz']"
      ]
     },
     "execution_count": 8,
     "metadata": {},
     "output_type": "execute_result"
    }
   ],
   "source": [
    "ex_m"
   ]
  },
  {
   "cell_type": "code",
   "execution_count": 10,
   "metadata": {},
   "outputs": [
    {
     "name": "stdout",
     "output_type": "stream",
     "text": [
      "(110, 512, 512) [-1024. -1023. -1022. ...  3058.  3066.  3071.] (110, 512, 512) [ 0  1  2  3  4  5  6  7  8  9 10 11 12 13]\n",
      "(107, 512, 512) [-1024. -1023. -1022. ...  2678.  2778.  2926.] (107, 512, 512) [ 0  1  2  3  4  5  6  7  8  9 10 11 12 13]\n",
      "(101, 512, 512) [-1024. -1023. -1022. ...  2966.  3018.  3071.] (101, 512, 512) [ 0  1  2  3  4  5  6  7  8  9 10 11 12 13]\n",
      "(87, 512, 512) [-1024. -1023. -1022. ...  1485.  1615.  1642.] (87, 512, 512) [ 0  1  2  3  4  5  6  7  8  9 10 11 12 13]\n",
      "(85, 512, 512) [-1024. -1023. -1022. ...  2538.  2545.  2549.] (85, 512, 512) [ 0  1  2  3  4  5  6  7  8  9 10 11 12 13]\n",
      "(93, 512, 512) [-1024. -1023. -1022. ...  1323.  1341.  1349.] (93, 512, 512) [ 0  1  2  3  4  5  6  7  8  9 10 11 12 13]\n",
      "(105, 512, 512) [-1024. -1023. -1022. ...  3017.  3022.  3059.] (105, 512, 512) [ 0  1  2  3  4  5  6  7  8  9 10 11 12 13]\n",
      "(99, 512, 512) [-1024. -1023. -1022. ...  2435.  2466.  2499.] (99, 512, 512) [ 0  1  2  3  4  5  6  7  8  9 10 11 12 13]\n",
      "(87, 512, 512) [-1024. -1023. -1022. ...  1306.  1327.  1328.] (87, 512, 512) [ 0  1  2  3  4  5  6  7  8  9 10 11 12 13]\n",
      "(96, 512, 512) [-1024. -1023. -1022. ...  1499.  1585.  1663.] (96, 512, 512) [ 0  1  2  3  4  5  6  7  8  9 10 11 12 13]\n",
      "(84, 512, 512) [-1024. -1023. -1022. ...  1640.  1644.  1730.] (84, 512, 512) [ 0  1  2  3  4  5  6  7  8  9 10 11 12 13]\n",
      "(103, 512, 512) [-1024. -1023. -1022. ...  3069.  3070.  3071.] (103, 512, 512) [ 0  1  2  3  4  5  6  7  8  9 10 11 12 13]\n",
      "(91, 512, 512) [-1024. -1023. -1022. ...  2856.  2893.  3071.] (91, 512, 512) [ 0  1  2  3  4  5  6  7  8  9 10 11 12 13]\n",
      "(71, 512, 512) [-1024. -1023. -1022. ...  3026.  3027.  3071.] (71, 512, 512) [ 0  1  2  3  4  5  6  7  8  9 10 11 12 13]\n",
      "(84, 512, 512) [-1024. -1023. -1022. ...  2130.  2136.  2180.] (84, 512, 512) [ 0  1  2  3  4  5  6  7  8  9 10 11 12 13]\n",
      "(93, 512, 512) [-1024. -1023. -1022. ...  1329.  1348.  1349.] (93, 512, 512) [ 0  1  2  3  4  5  6  7  8  9 10 11 12 13]\n",
      "(108, 512, 512) [-1024. -1023. -1022. ...  1283.  1308.  1352.] (108, 512, 512) [ 0  1  2  3  4  5  6  7  8  9 10 11 12 13]\n",
      "(98, 512, 512) [-1024. -1023. -1022. ...  3068.  3070.  3071.] (98, 512, 512) [ 0  1  2  3  4  5  6  7  8  9 10 11 12 13]\n",
      "(98, 512, 512) [-1024. -1023. -1022. ...  1488.  1492.  1493.] (98, 512, 512) [ 0  1  2  3  4  5  6  7  8  9 10 11 12 13]\n",
      "(92, 512, 512) [-1024. -1023. -1022. ...  1610.  1614.  1685.] (92, 512, 512) [ 0  1  2  3  4  5  6  7  8  9 10 11 12 13]\n",
      "(100, 512, 512) [-1024. -1023. -1022. ...  3068.  3070.  3071.] (100, 512, 512) [ 0  1  2  3  4  5  6  7  8  9 10 11 12 13]\n",
      "(98, 512, 512) [-1024. -1023. -1022. ...  1421.  1424.  1443.] (98, 512, 512) [ 0  1  2  3  4  5  6  7  8  9 10 11 12 13]\n",
      "(102, 512, 512) [-1024. -1023. -1022. ...  3061.  3063.  3071.] (102, 512, 512) [ 0  1  2  3  4  5  6  7  8  9 10 11 12 13]\n",
      "(99, 512, 512) [-1024. -1023. -1022. ...  1594.  1607.  1704.] (99, 512, 512) [ 0  1  2  3  4  5  6  7  8  9 10 11 12 13]\n",
      "(85, 512, 512) [-1024. -1023. -1022. ...  1410.  1411.  1417.] (85, 512, 512) [ 0  1  2  3  4  5  6  7  8  9 10 11 12 13]\n",
      "(104, 512, 512) [-1024. -1023. -1022. ...  1498.  1502.  1512.] (104, 512, 512) [ 0  1  2  3  4  5  6  7  8  9 10 11 12 13]\n",
      "(102, 512, 512) [-1024. -1023. -1022. ...  1367.  1382.  1487.] (102, 512, 512) [ 0  1  2  3  4  5  6  7  8  9 10 11 12 13]\n",
      "(89, 512, 512) [-1024. -1023. -1022. ...  1740.  1785.  1842.] (89, 512, 512) [ 0  1  2  3  4  5  6  7  8  9 10 11 12 13]\n",
      "(93, 512, 512) [-1024. -1023. -1022. ...  1481.  1525.  1571.] (93, 512, 512) [ 0  1  2  3  4  5  6  7  8  9 10 11 12 13]\n",
      "(99, 512, 512) [-1024. -1023. -1022. ...  1415.  1424.  1448.] (99, 512, 512) [ 0  1  2  3  4  5  6  7  8  9 10 11 12 13]\n",
      "(101, 512, 512) [-1024. -1023. -1022. ...  3068.  3069.  3071.] (101, 512, 512) [ 0  1  2  3  4  5  6  7  8  9 10 11 12 13]\n",
      "(103, 512, 512) [-1024. -1023. -1022. ...  1302.  1316.  1362.] (103, 512, 512) [ 0  1  2  3  4  5  6  7  8  9 10 11 12 13]\n",
      "(107, 512, 512) [-1024. -1023. -1022. ...  1920.  1922.  1959.] (107, 512, 512) [ 0  1  2  3  4  5  6  7  8  9 10 11 12 13]\n",
      "(94, 512, 512) [-1024. -1023. -1022. ...  3069.  3070.  3071.] (94, 512, 512) [ 0  1  2  3  4  5  6  7  8  9 10 11 12 13]\n",
      "(101, 512, 512) [-1024. -1023. -1022. ...  1320.  1377.  1381.] (101, 512, 512) [ 0  1  2  3  4  5  6  7  8  9 10 11 12 13]\n",
      "(89, 512, 512) [-1024. -1023. -1022. ...  1429.  1431.  1434.] (89, 512, 512) [ 0  1  2  3  4  5  6  7  8  9 10 11 12 13]\n",
      "(79, 512, 512) [-1024. -1023. -1022. ...  3022.  3030.  3071.] (79, 512, 512) [ 0  1  2  3  4  5  6  7  8  9 10 11 12 13]\n",
      "(109, 512, 512) [-1024. -1023. -1022. ...  1852.  1874.  1976.] (109, 512, 512) [ 0  1  2  3  4  5  6  7  8  9 10 11 12 13]\n",
      "(100, 512, 512) [-1024. -1023. -1022. ...  1375.  1384.  1403.] (100, 512, 512) [ 0  1  2  3  4  5  6  7  8  9 10 11 12 13]\n",
      "(93, 512, 512) [-1024. -1023. -1022. ...  1387.  1391.  1409.] (93, 512, 512) [ 0  1  2  3  4  5  6  7  8  9 10 11 12 13]\n",
      "(98, 512, 512) [-1024. -1023. -1022. ...  1530.  1539.  1550.] (98, 512, 512) [ 0  1  2  3  4  5  6  7  8  9 10 11 12 13]\n",
      "(93, 512, 512) [-1024. -1023. -1022. ...  2849.  3057.  3071.] (93, 512, 512) [ 0  1  2  3  4  5  6  7  8  9 10 11 12 13]\n",
      "(85, 512, 512) [-1024. -1023. -1022. ...  1775.  1782.  1842.] (85, 512, 512) [ 0  1  2  3  4  5  6  7  8  9 10 11 12 13]\n",
      "(83, 512, 512) [-1024. -1023. -1022. ...  1295.  1297.  1334.] (83, 512, 512) [ 0  1  2  3  4  5  6  7  8  9 10 11 12 13]\n",
      "(113, 512, 512) [-1024. -1023. -1022. ...  1818.  1829.  1913.] (113, 512, 512) [ 0  1  2  3  4  5  6  7  8  9 10 11 12 13]\n",
      "(93, 512, 512) [-1024. -1023. -1022. ...  1419.  1429.  1449.] (93, 512, 512) [ 0  1  2  3  4  5  6  7  8  9 10 11 12 13]\n",
      "(113, 512, 512) [-1024. -1023. -1022. ...  1424.  1467.  1468.] (113, 512, 512) [ 0  1  2  3  4  5  6  7  8  9 10 11 12 13]\n",
      "(95, 512, 512) [-1024. -1023. -1022. ...  1502.  1587.  1596.] (95, 512, 512) [ 0  1  2  3  4  5  6  7  8  9 10 11 12 13]\n",
      "(87, 512, 512) [-1024. -1023. -1022. ...  3063.  3066.  3071.] (87, 512, 512) [ 0  1  2  3  4  5  6  7  8  9 10 11 12 13]\n",
      "(95, 512, 512) [-1024. -1023. -1022. ...  1291.  1297.  1308.] (95, 512, 512) [ 0  1  2  3  4  5  6  7  8  9 10 11 12 13]\n"
     ]
    }
   ],
   "source": [
    "for k in range(len(ex_i)):\n",
    "    i=sitk.ReadImage(ex_i[k])\n",
    "    i_np=sitk.GetArrayFromImage(i)\n",
    "\n",
    "    m=sitk.ReadImage(ex_m[k])\n",
    "    m_np=sitk.GetArrayFromImage(m)\n",
    "\n",
    "\n",
    "    print(i_np.shape,np.unique(i_np),m_np.shape,np.unique(m_np))"
   ]
  },
  {
   "cell_type": "code",
   "execution_count": null,
   "metadata": {},
   "outputs": [],
   "source": [
    "\n"
   ]
  },
  {
   "cell_type": "code",
   "execution_count": null,
   "metadata": {},
   "outputs": [],
   "source": []
  }
 ],
 "metadata": {
  "kernelspec": {
   "display_name": "Python 3",
   "language": "python",
   "name": "python3"
  },
  "language_info": {
   "codemirror_mode": {
    "name": "ipython",
    "version": 3
   },
   "file_extension": ".py",
   "mimetype": "text/x-python",
   "name": "python",
   "nbconvert_exporter": "python",
   "pygments_lexer": "ipython3",
   "version": "3.11.1"
  }
 },
 "nbformat": 4,
 "nbformat_minor": 2
}
